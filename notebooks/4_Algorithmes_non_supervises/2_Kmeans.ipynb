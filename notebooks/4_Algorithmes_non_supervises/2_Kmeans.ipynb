{
 "cells": [
  {
   "cell_type": "markdown",
   "id": "e42efab5",
   "metadata": {},
   "source": [
    "# Données `wines`\n",
    "\n",
    "Votre objectif est de trouver des clusters dans le jeu de données `wine`. Ce jeu de données représente les caractéristiques chimiques de différents vins issus de la même région en italie mais produits par 3 exploitants différents."
   ]
  },
  {
   "cell_type": "code",
   "execution_count": 17,
   "id": "69b5cf76",
   "metadata": {},
   "outputs": [],
   "source": [
    "# Importez ici les modules qui vous seront utiles (pandas, numpy ...)"
   ]
  },
  {
   "cell_type": "markdown",
   "id": "06aa1cd7",
   "metadata": {},
   "source": [
    "---\n",
    "**Q1** Chargez le jeu de données `wine`."
   ]
  },
  {
   "cell_type": "code",
   "execution_count": null,
   "id": "40dfe9f0",
   "metadata": {},
   "outputs": [],
   "source": []
  },
  {
   "cell_type": "markdown",
   "id": "4cc0dae2",
   "metadata": {},
   "source": [
    "Discutez de votre jeu de données (variables à votre disposition, que représente la cible ? ...)"
   ]
  },
  {
   "cell_type": "markdown",
   "id": "6ee4764c",
   "metadata": {},
   "source": [
    "# 1. Mise en place du clustering"
   ]
  },
  {
   "cell_type": "markdown",
   "id": "eca36bcf",
   "metadata": {},
   "source": [
    "## 1.1 Représentation graphique"
   ]
  },
  {
   "cell_type": "markdown",
   "id": "30ec1d30",
   "metadata": {},
   "source": [
    "---\n",
    "**Q1** Faites un plot de `alcohol` en fonction de `proline` et colorez les en fonction de votre cible"
   ]
  },
  {
   "cell_type": "code",
   "execution_count": null,
   "id": "3f9ab3a4",
   "metadata": {},
   "outputs": [],
   "source": []
  },
  {
   "cell_type": "markdown",
   "id": "18b1638e",
   "metadata": {},
   "source": [
    "## 1.2 Sklearn"
   ]
  },
  {
   "cell_type": "markdown",
   "id": "3f56e6d5",
   "metadata": {},
   "source": [
    "---\n",
    "**Q2** Une fois que vous avez choisi le nombre de clusters le plus adapté, effectuez le K-means à l'aide de Sklearn sur l'ensemble de votre base de données."
   ]
  },
  {
   "cell_type": "code",
   "execution_count": null,
   "id": "7a3a3fe7",
   "metadata": {},
   "outputs": [],
   "source": []
  },
  {
   "cell_type": "markdown",
   "id": "023a7a55",
   "metadata": {},
   "source": [
    "## 1.3 Interprétation graphique"
   ]
  },
  {
   "cell_type": "markdown",
   "id": "828b70fc",
   "metadata": {},
   "source": [
    "---\n",
    "**Q3** Faites un plot de vos observations dont le couleurs correspondent aux clusters que vous avez identifié."
   ]
  },
  {
   "cell_type": "code",
   "execution_count": null,
   "id": "508a9d65",
   "metadata": {},
   "outputs": [],
   "source": []
  },
  {
   "cell_type": "markdown",
   "id": "d435bbcf",
   "metadata": {},
   "source": [
    "---\n",
    "**Q4** Votre modèle semble-t-il performant ?"
   ]
  },
  {
   "cell_type": "code",
   "execution_count": null,
   "id": "7c256ed9",
   "metadata": {},
   "outputs": [],
   "source": []
  },
  {
   "cell_type": "markdown",
   "id": "1dffde11",
   "metadata": {},
   "source": [
    "# 2. Détermination du nombre optimal de clusters"
   ]
  },
  {
   "cell_type": "markdown",
   "id": "91dcb02d",
   "metadata": {},
   "source": [
    "---\n",
    "**Q1** A l'aide de la méthode elbow, déterminez le nombre optimal de clusters."
   ]
  },
  {
   "cell_type": "code",
   "execution_count": null,
   "id": "9b5e043d",
   "metadata": {},
   "outputs": [],
   "source": []
  },
  {
   "cell_type": "markdown",
   "id": "11365c0d",
   "metadata": {},
   "source": [
    "---\n",
    "**Q2** Ce résultat semble-t-il cohérent ?"
   ]
  },
  {
   "cell_type": "code",
   "execution_count": null,
   "id": "e3b713fd",
   "metadata": {},
   "outputs": [],
   "source": []
  },
  {
   "cell_type": "markdown",
   "id": "a37c1cf1",
   "metadata": {},
   "source": [
    "# 3. Pour aller plus loin"
   ]
  },
  {
   "cell_type": "markdown",
   "id": "8e82f776",
   "metadata": {},
   "source": [
    "En réutilisant un k-means à 3 clusters, existe-t-il un moyen de vérifier les performances de ce clustering ?\n",
    "\n",
    "**Q1** Si oui, c'est à vous de jouer"
   ]
  },
  {
   "cell_type": "code",
   "execution_count": null,
   "id": "47816ee6",
   "metadata": {},
   "outputs": [],
   "source": []
  }
 ],
 "metadata": {
  "kernelspec": {
   "display_name": "Python 3 (ipykernel)",
   "language": "python",
   "name": "python3"
  },
  "language_info": {
   "codemirror_mode": {
    "name": "ipython",
    "version": 3
   },
   "file_extension": ".py",
   "mimetype": "text/x-python",
   "name": "python",
   "nbconvert_exporter": "python",
   "pygments_lexer": "ipython3",
   "version": "3.8.12"
  },
  "nbTranslate": {
   "displayLangs": [
    "*"
   ],
   "hotkey": "alt-t",
   "langInMainMenu": true,
   "sourceLang": "en",
   "targetLang": "fr",
   "useGoogleTranslate": true
  },
  "toc": {
   "base_numbering": 1,
   "nav_menu": {},
   "number_sections": false,
   "sideBar": true,
   "skip_h1_title": false,
   "title_cell": "Table of Contents",
   "title_sidebar": "Contents",
   "toc_cell": false,
   "toc_position": {},
   "toc_section_display": true,
   "toc_window_display": true
  }
 },
 "nbformat": 4,
 "nbformat_minor": 5
}
