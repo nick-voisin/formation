{
 "cells": [
  {
   "cell_type": "markdown",
   "id": "e42efab5",
   "metadata": {},
   "source": [
    "# La classification ascendante hiérarchique\n",
    "\n",
    "Votre objectif est de trouver les clusters dans le jeu de données `iris` et de comparer les résultats obtenus à ceux du cours sur la classification par K-means."
   ]
  },
  {
   "cell_type": "code",
   "execution_count": 17,
   "id": "69b5cf76",
   "metadata": {},
   "outputs": [],
   "source": [
    "# Importez ici les modules qui vous seront utiles (pandas, numpy ...)"
   ]
  },
  {
   "cell_type": "markdown",
   "id": "06aa1cd7",
   "metadata": {},
   "source": [
    "---\n",
    "**Q1** Chargez le jeu de données `iris`"
   ]
  },
  {
   "cell_type": "code",
   "execution_count": null,
   "id": "ea33f210",
   "metadata": {},
   "outputs": [],
   "source": []
  },
  {
   "cell_type": "markdown",
   "id": "e2ee016a",
   "metadata": {},
   "source": [
    "---\n",
    "**Q2** Définissez `X` et `y` représentant respectivement les données de tailles de sépales et la cible, l'espèce de plante."
   ]
  },
  {
   "cell_type": "code",
   "execution_count": null,
   "id": "3b31714a",
   "metadata": {},
   "outputs": [],
   "source": []
  },
  {
   "cell_type": "markdown",
   "id": "6ee4764c",
   "metadata": {},
   "source": [
    "# 1. Mise en place du clustering"
   ]
  },
  {
   "cell_type": "markdown",
   "id": "eca36bcf",
   "metadata": {},
   "source": [
    "## 1.1 Représentation du dendrogramme"
   ]
  },
  {
   "cell_type": "markdown",
   "id": "30ec1d30",
   "metadata": {},
   "source": [
    "---\n",
    "**Q1** A l'aide `scipy` représentez le dendrogramme du clustering selon la métrique choisie (lien simple, lien complet...). \n",
    "\n",
    "Vous pouvez tester plusieurs possibilités."
   ]
  },
  {
   "cell_type": "code",
   "execution_count": null,
   "id": "06bdebed",
   "metadata": {},
   "outputs": [],
   "source": []
  },
  {
   "cell_type": "markdown",
   "id": "18b1638e",
   "metadata": {},
   "source": [
    "## 1.2 Sklearn"
   ]
  },
  {
   "cell_type": "markdown",
   "id": "3f56e6d5",
   "metadata": {},
   "source": [
    "---\n",
    "**Q2** Une fois que vous avez choisi le lien et le nombre de clusters les plus adaptés, effectuez le clustering hiérarchique à l'aide de Sklearn."
   ]
  },
  {
   "cell_type": "code",
   "execution_count": null,
   "id": "b692b3b2",
   "metadata": {},
   "outputs": [],
   "source": []
  },
  {
   "cell_type": "markdown",
   "id": "023a7a55",
   "metadata": {},
   "source": [
    "## 1.3 Interprétation graphique"
   ]
  },
  {
   "cell_type": "markdown",
   "id": "828b70fc",
   "metadata": {},
   "source": [
    "---\n",
    "**Q3** Faites un plot de vos observations dont le couleurs correspondent aux clusters que vous avez identifié."
   ]
  },
  {
   "cell_type": "code",
   "execution_count": null,
   "id": "508a9d65",
   "metadata": {},
   "outputs": [],
   "source": []
  },
  {
   "cell_type": "markdown",
   "id": "d435bbcf",
   "metadata": {},
   "source": [
    "---\n",
    "**Q4** Quel modèle semble le plus performant ? K-means ? CAH ?"
   ]
  },
  {
   "cell_type": "code",
   "execution_count": null,
   "id": "7c256ed9",
   "metadata": {},
   "outputs": [],
   "source": []
  },
  {
   "cell_type": "markdown",
   "id": "a37c1cf1",
   "metadata": {},
   "source": [
    "# 2. Pour aller plus loin"
   ]
  },
  {
   "cell_type": "markdown",
   "id": "8e82f776",
   "metadata": {},
   "source": [
    "Selon vous existe-t-il un moyen de vérifier les hypothèses que vous venez de faire ?\n",
    "\n",
    "**Q1** Si oui, c'est à vous de jouer"
   ]
  },
  {
   "cell_type": "code",
   "execution_count": null,
   "id": "47816ee6",
   "metadata": {},
   "outputs": [],
   "source": []
  }
 ],
 "metadata": {
  "kernelspec": {
   "display_name": "Python 3 (ipykernel)",
   "language": "python",
   "name": "python3"
  },
  "language_info": {
   "codemirror_mode": {
    "name": "ipython",
    "version": 3
   },
   "file_extension": ".py",
   "mimetype": "text/x-python",
   "name": "python",
   "nbconvert_exporter": "python",
   "pygments_lexer": "ipython3",
   "version": "3.8.12"
  },
  "nbTranslate": {
   "displayLangs": [
    "*"
   ],
   "hotkey": "alt-t",
   "langInMainMenu": true,
   "sourceLang": "en",
   "targetLang": "fr",
   "useGoogleTranslate": true
  },
  "toc": {
   "base_numbering": 1,
   "nav_menu": {},
   "number_sections": false,
   "sideBar": true,
   "skip_h1_title": false,
   "title_cell": "Table of Contents",
   "title_sidebar": "Contents",
   "toc_cell": false,
   "toc_position": {},
   "toc_section_display": true,
   "toc_window_display": true
  }
 },
 "nbformat": 4,
 "nbformat_minor": 5
}
