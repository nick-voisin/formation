{
 "cells": [
  {
   "cell_type": "markdown",
   "id": "58442668",
   "metadata": {},
   "source": [
    "# Métriques de performance et classifications"
   ]
  },
  {
   "cell_type": "code",
   "execution_count": null,
   "id": "75e60a5e",
   "metadata": {},
   "outputs": [],
   "source": [
    "# importer ici toutes les librairies nécessaires"
   ]
  },
  {
   "cell_type": "markdown",
   "id": "87139186",
   "metadata": {},
   "source": [
    "Dans cet exercice nous allons travailler sur une base de données d'électrocardiogrammes. L'objectif étant de prédire la présence ou non de problèmes cardiaques à partir de ces données et d'évaluer les performances du modèle mise en place."
   ]
  },
  {
   "cell_type": "markdown",
   "id": "ad1f9f62",
   "metadata": {},
   "source": [
    "---\n",
    "**Q1** Chargez le jeu de données `electrocardiograms.csv`"
   ]
  },
  {
   "cell_type": "code",
   "execution_count": null,
   "id": "10e9b552",
   "metadata": {},
   "outputs": [],
   "source": []
  },
  {
   "cell_type": "markdown",
   "id": "5aaf6254",
   "metadata": {},
   "source": [
    "# 1. Première exploration des données"
   ]
  },
  {
   "cell_type": "markdown",
   "id": "027ff693",
   "metadata": {},
   "source": [
    "---\n",
    "**Q1** Représentez sur le même graphique deux électrocardiogrammes : un correspondant à un risque élevé et un autre à un risque faible de problèmes cardiaques."
   ]
  },
  {
   "cell_type": "code",
   "execution_count": null,
   "id": "e11ae12d",
   "metadata": {},
   "outputs": [],
   "source": []
  },
  {
   "cell_type": "markdown",
   "id": "4eac03e5",
   "metadata": {},
   "source": [
    "---\n",
    "**Q2** Combien d'observations existe-t-il de battements cardiaques \"à risque\" ? Combien ne le sont pas ?"
   ]
  },
  {
   "cell_type": "code",
   "execution_count": null,
   "id": "3ad2b9d8",
   "metadata": {},
   "outputs": [],
   "source": []
  },
  {
   "cell_type": "markdown",
   "id": "c6cd0eed",
   "metadata": {},
   "source": [
    "---\n",
    "**Q3** Discutez de la distribution de ces deux valeurs."
   ]
  },
  {
   "cell_type": "code",
   "execution_count": null,
   "id": "c87de364",
   "metadata": {},
   "outputs": [],
   "source": []
  },
  {
   "cell_type": "markdown",
   "id": "7c35aa96",
   "metadata": {},
   "source": [
    "# 2. Régression logistique"
   ]
  },
  {
   "cell_type": "markdown",
   "id": "b71311da",
   "metadata": {},
   "source": [
    "---\n",
    "**Q1** Commençons par étudier les performances du modèle `LogisticRegression` pour prédire les battements à risque.\n",
    "\n",
    "Nous allons pour cela cross-valider notre modèle et nous appuyer sur les 4 métriques vues en cours."
   ]
  },
  {
   "cell_type": "code",
   "execution_count": null,
   "id": "7ca18983",
   "metadata": {},
   "outputs": [],
   "source": []
  },
  {
   "cell_type": "markdown",
   "id": "af161c53",
   "metadata": {},
   "source": [
    "---\n",
    "**Q2** Instanciez le modèle "
   ]
  },
  {
   "cell_type": "code",
   "execution_count": null,
   "id": "5f4473fb",
   "metadata": {},
   "outputs": [],
   "source": []
  },
  {
   "cell_type": "markdown",
   "id": "405f5108",
   "metadata": {},
   "source": [
    "---\n",
    "**Q3** Cross-validez votre modèle"
   ]
  },
  {
   "cell_type": "code",
   "execution_count": null,
   "id": "b59b3439",
   "metadata": {},
   "outputs": [],
   "source": []
  },
  {
   "cell_type": "markdown",
   "id": "087d7020",
   "metadata": {},
   "source": [
    "---\n",
    "**Q4** Quel est le ratio de prédictions correctes du modèle ?"
   ]
  },
  {
   "cell_type": "code",
   "execution_count": null,
   "id": "89f13e15",
   "metadata": {},
   "outputs": [],
   "source": []
  },
  {
   "cell_type": "markdown",
   "id": "98081c96",
   "metadata": {},
   "source": [
    "---\n",
    "**Q5** Lorsque le modèle signale un rythme cardiaque à risque, dans quelle mesure est-il correct ?"
   ]
  },
  {
   "cell_type": "code",
   "execution_count": null,
   "id": "1d44864b",
   "metadata": {},
   "outputs": [],
   "source": []
  },
  {
   "cell_type": "markdown",
   "id": "cb9f3b5b",
   "metadata": {},
   "source": [
    "---\n",
    "**Q6** Quel pourcentage de battements cardiaques à risque le modèle est-il capable de signaler ? "
   ]
  },
  {
   "cell_type": "code",
   "execution_count": null,
   "id": "e584405b",
   "metadata": {},
   "outputs": [],
   "source": []
  },
  {
   "cell_type": "markdown",
   "id": "3b495b66",
   "metadata": {},
   "source": [
    "---\n",
    "**Q7** Quelle est la capacité du modèle à signaler un maximum de battements cardiaques à risque tout en limitant les fausses alertes ?"
   ]
  },
  {
   "cell_type": "code",
   "execution_count": null,
   "id": "a5a97aab",
   "metadata": {},
   "outputs": [],
   "source": []
  },
  {
   "cell_type": "markdown",
   "id": "63110df3",
   "metadata": {},
   "source": [
    "---\n",
    "**Q8** Discutez les résultats obtenus avec les différentes métriques"
   ]
  },
  {
   "cell_type": "code",
   "execution_count": null,
   "id": "260cc4c0",
   "metadata": {},
   "outputs": [],
   "source": []
  },
  {
   "cell_type": "markdown",
   "id": "25a92e62",
   "metadata": {},
   "source": [
    "## Matrice de confusion"
   ]
  },
  {
   "cell_type": "markdown",
   "id": "a5cff8f6",
   "metadata": {},
   "source": [
    "---\n",
    "**Q9** En utilisant `plot_confusion_matrix` ([documentation](https://scikit-learn.org/stable/modules/generated/sklearn.metrics.plot_confusion_matrix.html)), visualisez le problème sous-jacent de notre modèle."
   ]
  },
  {
   "cell_type": "code",
   "execution_count": null,
   "id": "3182630e",
   "metadata": {},
   "outputs": [],
   "source": []
  },
  {
   "cell_type": "markdown",
   "id": "2584fd30",
   "metadata": {},
   "source": [
    "---\n",
    "**Q10** Commentez ce que vous observez"
   ]
  },
  {
   "cell_type": "code",
   "execution_count": null,
   "id": "01e1c864",
   "metadata": {},
   "outputs": [],
   "source": []
  },
  {
   "cell_type": "markdown",
   "id": "f1ec687d",
   "metadata": {},
   "source": [
    "# 3. Le KNN"
   ]
  },
  {
   "cell_type": "markdown",
   "id": "94117e50",
   "metadata": {},
   "source": [
    "La méthode KNN (K nearest-neighbors) fait partie des algorithmes supervisées. Elle permet cependant à la fois de répondre à des problèmes de régression et à des problèmes de classification.\n",
    "\n",
    "Cet algorithme repose sur l'utilisation des observations les plus proches d'une cible afin de prédire soit la valeur de cette cible (regression) soit la classe à laquelle appartient celle-ci (classification). Le nombre de voisins à utiliser est représenté par le nombre K."
   ]
  },
  {
   "cell_type": "markdown",
   "id": "f2f59c0c",
   "metadata": {},
   "source": [
    "Nous avons ici défini un modèle KNN dont voici les sorties de cross-validations"
   ]
  },
  {
   "cell_type": "code",
   "execution_count": null,
   "id": "d9680d77",
   "metadata": {},
   "outputs": [],
   "source": [
    "# Faites tourner cette cellule\n",
    "model_KNN=KNeighborsClassifier(n_neighbors=3)\n",
    "cv_KNN_results=cross_validate(model_KNN,X,y,scoring=['accuracy','recall','precision','f1'])\n",
    "pd.DataFrame(cv_KNN_results)"
   ]
  },
  {
   "cell_type": "markdown",
   "id": "095184fc",
   "metadata": {},
   "source": [
    "---\n",
    "**Q1** Selon vous quel est le meilleur modèle Log ou KNN ? Pourquoi ?"
   ]
  },
  {
   "cell_type": "code",
   "execution_count": null,
   "id": "3286a372",
   "metadata": {},
   "outputs": [],
   "source": []
  }
 ],
 "metadata": {
  "kernelspec": {
   "display_name": "Python 3 (ipykernel)",
   "language": "python",
   "name": "python3"
  },
  "language_info": {
   "codemirror_mode": {
    "name": "ipython",
    "version": 3
   },
   "file_extension": ".py",
   "mimetype": "text/x-python",
   "name": "python",
   "nbconvert_exporter": "python",
   "pygments_lexer": "ipython3",
   "version": "3.8.12"
  },
  "nbTranslate": {
   "displayLangs": [
    "*"
   ],
   "hotkey": "alt-t",
   "langInMainMenu": true,
   "sourceLang": "en",
   "targetLang": "fr",
   "useGoogleTranslate": true
  },
  "toc": {
   "base_numbering": 1,
   "nav_menu": {},
   "number_sections": false,
   "sideBar": true,
   "skip_h1_title": false,
   "title_cell": "Table of Contents",
   "title_sidebar": "Contents",
   "toc_cell": false,
   "toc_position": {},
   "toc_section_display": true,
   "toc_window_display": true
  }
 },
 "nbformat": 4,
 "nbformat_minor": 5
}
