{
 "cells": [
  {
   "cell_type": "markdown",
   "id": "723a56b6",
   "metadata": {},
   "source": [
    "# Introduction à Python"
   ]
  },
  {
   "cell_type": "markdown",
   "id": "7f5824d4",
   "metadata": {},
   "source": [
    "Ici vous trouverez des exercices relativement simples qui permettent une (re)prise en main de Python."
   ]
  },
  {
   "cell_type": "markdown",
   "id": "ee4d5630",
   "metadata": {},
   "source": [
    "# 1. Définition de fonctions"
   ]
  },
  {
   "cell_type": "markdown",
   "id": "ba840fa6",
   "metadata": {},
   "source": [
    "Définissez 5 fonctions :\n",
    "\n",
    "1. <code>sum_of_three</code> : renvoie le somme de trois nombres donnés en argument. Exemple: sum_of_three(1,1,1) => 3\n",
    "\n",
    "\n",
    "2. <code>cube_volume</code> : renvoie le volume d'un cube de coté n. Exemple: cube_volume(2) => 8.\n",
    "\n",
    "\n",
    "3. <code>is_pair</code> : renvoie <code>True</code> si le nombre donné en argument est un nombre pair. Exemple is_pair(156) => True.\n",
    "\n",
    "\n",
    "4. <code>belongs_to</code> : renvoie <code>True</code> si une chaine de caractère donnée contient un mot donné. Exemple: belongs_to(\"Il fait beau\", \"beau\") => True\n",
    "\n",
    "\n",
    "5. <code>is_a_question</code> : renvoie <code>True</code> si un string finit par \"?\". Exemple : is_a_question(\"Comment t'appelles tu ?\") => True"
   ]
  },
  {
   "cell_type": "code",
   "execution_count": 2,
   "id": "b44945d9",
   "metadata": {},
   "outputs": [],
   "source": [
    "def sum_of_three(a: int, b:int, c: int) -> int:\n",
    "    return a + b + c\n",
    "\n",
    "def cube_volume(side: int) -> int:\n",
    "    return side ** 3\n",
    "\n",
    "def is_pair(num: int) -> bool:\n",
    "    return num % 2 == 0\n",
    "\n",
    "def belongs_to(sentence: str, word: str) -> bool:\n",
    "    return word in sentence\n",
    "\n",
    "def is_a_question(sentence: str) -> bool:\n",
    "    return sentence.endswith(\"?\")"
   ]
  },
  {
   "cell_type": "code",
   "execution_count": 4,
   "id": "07bcf27d",
   "metadata": {},
   "outputs": [],
   "source": [
    "assert sum_of_three(1, 2, 3) == 6"
   ]
  },
  {
   "cell_type": "code",
   "execution_count": 5,
   "id": "378f530f",
   "metadata": {},
   "outputs": [],
   "source": [
    "assert cube_volume(side=3) == 27"
   ]
  },
  {
   "cell_type": "code",
   "execution_count": 6,
   "id": "4442c018",
   "metadata": {},
   "outputs": [],
   "source": [
    "assert is_pair(2222)"
   ]
  },
  {
   "cell_type": "code",
   "execution_count": 7,
   "id": "c34f8c9b",
   "metadata": {},
   "outputs": [],
   "source": [
    "assert belongs_to(\"hello world!\", \"hello\")"
   ]
  },
  {
   "cell_type": "code",
   "execution_count": 8,
   "id": "f1fbcd7e",
   "metadata": {},
   "outputs": [],
   "source": [
    "assert is_a_question(\"Hello world ?\")"
   ]
  },
  {
   "cell_type": "markdown",
   "id": "3e38bb6d",
   "metadata": {},
   "source": [
    "# 2. Problèmes divers\n",
    "\n",
    "1. J'ai organisé une soirée piscine en l'absence de mes parents. Je suis sur le point d'aller me coucher et j'aimerais savoir à quelle heure je dois me lever pour faire le ménage. Je sais qu'ils doivent rentrer demain, qu'ils partent à 9h et qu'ils sont à 300km de la maison. Avant quelle heure dois-je avoir fait le ménage demain ? Définissez une fonction qui permette d'estimer l'heure d'arrivée en fonction d'un paramètre v, la vitesse moyenne de la voiture de mes parents sur la route.\n",
    "\n",
    "\n",
    "2. On appelle diviseur propre de n, tout entier naturel qui divise exactement n, n exclu. On appelle nombre premier tout entier naturel supérieur à 1 qui possède exactement deux diviseurs propres, lui-même et l'unité. Un entier naturel est dit parfait s'il est égal à la somme de tous ses diviseurs propres. Écrire trois fonctions : somDiv, estParfait, estPremier, telles que :\n",
    "\n",
    "- <code>somDiv</code> retourne la somme des diviseurs propres d'un entier n (donné en paramètre).\n",
    "- <code>estPremier</code> retourne <code>True</code> si n est un entier premier.\n",
    "- <code>estParfait</code> retourne <code>True</code> si n est un entier parfait."
   ]
  },
  {
   "cell_type": "code",
   "execution_count": 15,
   "id": "29cc75f2",
   "metadata": {},
   "outputs": [
    {
     "data": {
      "text/plain": [
       "datetime.datetime(2024, 6, 25, 12, 0)"
      ]
     },
     "execution_count": 15,
     "metadata": {},
     "output_type": "execute_result"
    }
   ],
   "source": [
    "from datetime import datetime, timedelta\n",
    "\n",
    "def arrival_time(average_speed: float) -> datetime:\n",
    "    \"\"\" Average speed in km/h \"\"\"\n",
    "    start_time = datetime.today().replace(hour=9, minute=0, second=0, microsecond=0)\n",
    "    time_taken = 300 / average_speed\n",
    "    return start_time + timedelta(hours=time_taken)\n",
    "\n",
    "arrival_time(100)"
   ]
  },
  {
   "cell_type": "code",
   "execution_count": 21,
   "id": "2baf3454",
   "metadata": {},
   "outputs": [],
   "source": [
    "def somDiv(n: int) -> int:\n",
    "    return sum(diviseur for diviseur in range(1, n) if n % diviseur == 0)"
   ]
  },
  {
   "cell_type": "code",
   "execution_count": 45,
   "id": "d78156d8",
   "metadata": {},
   "outputs": [
    {
     "name": "stdout",
     "output_type": "stream",
     "text": [
      "1\n"
     ]
    }
   ],
   "source": [
    "print(somDiv(7))"
   ]
  },
  {
   "cell_type": "code",
   "execution_count": 30,
   "id": "b3e1911b",
   "metadata": {},
   "outputs": [],
   "source": [
    "def estPremier(n: int) -> int:\n",
    "    return somDiv(n) == 1"
   ]
  },
  {
   "cell_type": "code",
   "execution_count": 46,
   "id": "0b169c8e",
   "metadata": {},
   "outputs": [
    {
     "name": "stdout",
     "output_type": "stream",
     "text": [
      "False\n",
      "True\n",
      "False\n",
      "True\n"
     ]
    }
   ],
   "source": [
    "print(estPremier(6))\n",
    "print(estPremier(7))\n",
    "print(estPremier(8))\n",
    "print(estPremier(11))"
   ]
  },
  {
   "cell_type": "code",
   "execution_count": 38,
   "id": "c0a90565",
   "metadata": {},
   "outputs": [],
   "source": [
    "# def diviseurs(n: int):\n",
    "#     for d in range(n):\n",
    "#         if n % d == 0:\n",
    "#             yield d\n",
    "\n",
    "def estParfait(n: int) -> bool:\n",
    "    return somDiv(n) == n"
   ]
  },
  {
   "cell_type": "code",
   "execution_count": 40,
   "id": "42a2075d",
   "metadata": {},
   "outputs": [
    {
     "name": "stdout",
     "output_type": "stream",
     "text": [
      "True\n"
     ]
    }
   ],
   "source": [
    "print(estParfait(6))"
   ]
  },
  {
   "cell_type": "markdown",
   "id": "fc5ccff0",
   "metadata": {},
   "source": [
    "# 3. Numpy\n",
    "\n",
    "L'objectif, ici, est de faire un petit rappel sur Numpy, de manipuler des tableaux multidimensionnels et d'appliquer certaines opérations d'algèbre linéaire sans utiliser de boucles <code>for</code>. Si vous bloquez, n'hésitez pas à parcourir le site de [numpy](https://numpy.org/) ou internet dans son ensemble."
   ]
  },
  {
   "cell_type": "code",
   "execution_count": 48,
   "id": "4ef99af5",
   "metadata": {},
   "outputs": [],
   "source": [
    "import numpy as np # Faites tourner cette cellule"
   ]
  },
  {
   "cell_type": "markdown",
   "id": "35e75588",
   "metadata": {},
   "source": [
    "---\n",
    "\n",
    "**Q1** - Créez un vecteur nul (vecteur rempli de 0) de longueur 5. \n",
    "\n",
    "Il doit ressembler à ceci:\n",
    "\n",
    "```\n",
    "array([0., 0., 0., 0., 0.])\n",
    "```"
   ]
  },
  {
   "cell_type": "code",
   "execution_count": 50,
   "id": "c96b4ada",
   "metadata": {},
   "outputs": [
    {
     "data": {
      "text/plain": [
       "array([0., 0., 0., 0., 0.])"
      ]
     },
     "execution_count": 50,
     "metadata": {},
     "output_type": "execute_result"
    }
   ],
   "source": [
    "np.zeros(5)"
   ]
  },
  {
   "cell_type": "markdown",
   "id": "d2b4ef62",
   "metadata": {},
   "source": [
    "---\n",
    "\n",
    "**Q2** - Créez un vecteur contenant les valeurs entre 20 et 25.\n",
    "\n",
    "Il doit ressembler à ceci:\n",
    "\n",
    "```\n",
    "array([ 20,  21,  22,  23,  24, 25])\n",
    "```"
   ]
  },
  {
   "cell_type": "code",
   "execution_count": 52,
   "id": "9be0697d",
   "metadata": {},
   "outputs": [
    {
     "data": {
      "text/plain": [
       "array([20, 21, 22, 23, 24, 25])"
      ]
     },
     "execution_count": 52,
     "metadata": {},
     "output_type": "execute_result"
    }
   ],
   "source": [
    "np.arange(20, 26)"
   ]
  },
  {
   "cell_type": "markdown",
   "id": "3a442cb5",
   "metadata": {},
   "source": [
    "---\n",
    "**Q3** - Créez un vecteur de 10 élèments à intervalles réguliers entre `-5` et `5`.\n",
    "\n",
    "Il doit ressembler à ceci:\n",
    "\n",
    "```\n",
    "array([-5.        , -3.88888889, -2.77777778, -1.66666667, -0.55555556,\n",
    "        0.55555556,  1.66666667,  2.77777778,  3.88888889,  5.        ])\n",
    "```"
   ]
  },
  {
   "cell_type": "code",
   "execution_count": 59,
   "id": "ff4821aa",
   "metadata": {},
   "outputs": [
    {
     "data": {
      "text/plain": [
       "array([-5.        , -3.88888889, -2.77777778, -1.66666667, -0.55555556,\n",
       "        0.55555556,  1.66666667,  2.77777778,  3.88888889,  5.        ])"
      ]
     },
     "execution_count": 59,
     "metadata": {},
     "output_type": "execute_result"
    }
   ],
   "source": [
    "np.linspace(-5, 5, num=10)"
   ]
  },
  {
   "cell_type": "markdown",
   "id": "658f2225",
   "metadata": {},
   "source": [
    "---\n",
    "\n",
    "**Q4** - Créez la matrice suivante `A` comme un `ndarray` NumPy:\n",
    "\n",
    "$\n",
    "A = \n",
    "\\begin{pmatrix}\n",
    "5 & 6 & 12\\\\\n",
    "5 & 9 & 0\n",
    "\\end{pmatrix}\n",
    "$"
   ]
  },
  {
   "cell_type": "code",
   "execution_count": 65,
   "id": "424a3611",
   "metadata": {},
   "outputs": [
    {
     "name": "stdout",
     "output_type": "stream",
     "text": [
      "[[ 5  6 12]\n",
      " [ 5  9  0]]\n"
     ]
    }
   ],
   "source": [
    "A = np.array([[5, 6, 12], [5, 9 , 0]])\n",
    "print(A)"
   ]
  },
  {
   "cell_type": "markdown",
   "id": "3969e9ed",
   "metadata": {},
   "source": [
    "---\n",
    "**Q5** - Créez la matrice suivante `B` sans utiliser `np.array()` :\n",
    "\n",
    "$\n",
    "B = \n",
    "\\begin{pmatrix}\n",
    "1 & 1\\\\\n",
    "1 & 1\n",
    "\\end{pmatrix}\n",
    "$"
   ]
  },
  {
   "cell_type": "code",
   "execution_count": 69,
   "id": "4bfe7102",
   "metadata": {},
   "outputs": [
    {
     "data": {
      "text/plain": [
       "array([[1., 1.],\n",
       "       [1., 1.]])"
      ]
     },
     "execution_count": 69,
     "metadata": {},
     "output_type": "execute_result"
    }
   ],
   "source": [
    "B = np.ones(shape=(2, 2))\n",
    "B"
   ]
  },
  {
   "cell_type": "markdown",
   "id": "23340cee",
   "metadata": {},
   "source": [
    "---\n",
    "\n",
    "**Q6** - Créez une matrice identité `C` de dimensions 3x3:\n",
    "\n",
    "$\n",
    "C = \n",
    "\\begin{pmatrix}\n",
    "1 & 0 & 0\\\\\n",
    "0 & 1 & 0\\\\\n",
    "0 & 0 & 1\n",
    "\\end{pmatrix}\n",
    "$"
   ]
  },
  {
   "cell_type": "code",
   "execution_count": 72,
   "id": "66301e19",
   "metadata": {},
   "outputs": [
    {
     "data": {
      "text/plain": [
       "array([[1., 0., 0.],\n",
       "       [0., 1., 0.],\n",
       "       [0., 0., 1.]])"
      ]
     },
     "execution_count": 72,
     "metadata": {},
     "output_type": "execute_result"
    }
   ],
   "source": [
    "C = np.identity(3)\n",
    "C"
   ]
  },
  {
   "cell_type": "markdown",
   "id": "49054cf9",
   "metadata": {},
   "source": [
    "---\n",
    "\n",
    "**Q7** - Calculez la somme des deux matrices `A` et `D` et intégrez le résultats dans une matrice `mat_sum`:\n",
    "\n",
    "$\n",
    "A = \n",
    "\\begin{pmatrix}\n",
    "0 & 4\\\\\n",
    "-2 & 1\\\\\n",
    "-3 & 1\n",
    "\\end{pmatrix}\n",
    "$\n",
    "\n",
    "$\n",
    "D =\n",
    "\\begin{pmatrix}\n",
    "0 & -1\\\\\n",
    "-1 & 4\\\\\n",
    "2 & 3\n",
    "\\end{pmatrix}\n",
    "$"
   ]
  },
  {
   "cell_type": "code",
   "execution_count": 74,
   "id": "80072d33",
   "metadata": {},
   "outputs": [
    {
     "data": {
      "text/plain": [
       "array([[ 0,  3],\n",
       "       [-3,  5],\n",
       "       [-1,  4]])"
      ]
     },
     "execution_count": 74,
     "metadata": {},
     "output_type": "execute_result"
    }
   ],
   "source": [
    "A = np.array([[0, 4], [-2, 1], [-3, 1]])\n",
    "D = np.array([[0, -1], [-1, 4], [2, 3]])\n",
    "\n",
    "mat_sum = A + D\n",
    "mat_sum"
   ]
  },
  {
   "cell_type": "markdown",
   "id": "6c61d531",
   "metadata": {},
   "source": [
    "# 5. Pandas et Matplotlib\n",
    "\n",
    "L'objectif, ici, est de faire un rappel sur l'utilisation de Pandas et de Matplotlib.\n",
    "\n",
    "Pour cela nous allons analyser le jeu de données [\"Avocado Prices\"](https://www.kaggle.com/datasets/neuromusic/avocado-prices) de Janvier 2015 à Mars 2018. Ce jeu de données est issu de la plateforme [Kaggle](https://www.kaggle.com/)."
   ]
  },
  {
   "cell_type": "code",
   "execution_count": 95,
   "id": "5967bf3c",
   "metadata": {},
   "outputs": [],
   "source": [
    "# Import des librairies\n",
    "%matplotlib inline\n",
    "import numpy as np\n",
    "import pandas as pd\n",
    "import matplotlib.pyplot as plt\n",
    "import seaborn as sns"
   ]
  },
  {
   "cell_type": "markdown",
   "id": "06058dc9",
   "metadata": {},
   "source": [
    "---\n",
    "**Q1** - Chargez les données se trouvant dans le dossier data:"
   ]
  },
  {
   "cell_type": "code",
   "execution_count": 81,
   "id": "ddfc0394",
   "metadata": {},
   "outputs": [],
   "source": [
    "df = pd.read_csv(\"./data/avocado.csv\", header=0, index_col=0)"
   ]
  },
  {
   "cell_type": "markdown",
   "id": "6b34699d",
   "metadata": {},
   "source": [
    "---\n",
    "**Q2** - Affichez les 5 premières lignes du DataFrame créé :"
   ]
  },
  {
   "cell_type": "code",
   "execution_count": 82,
   "id": "8b09ac96",
   "metadata": {},
   "outputs": [
    {
     "data": {
      "text/html": [
       "<div>\n",
       "<style scoped>\n",
       "    .dataframe tbody tr th:only-of-type {\n",
       "        vertical-align: middle;\n",
       "    }\n",
       "\n",
       "    .dataframe tbody tr th {\n",
       "        vertical-align: top;\n",
       "    }\n",
       "\n",
       "    .dataframe thead th {\n",
       "        text-align: right;\n",
       "    }\n",
       "</style>\n",
       "<table border=\"1\" class=\"dataframe\">\n",
       "  <thead>\n",
       "    <tr style=\"text-align: right;\">\n",
       "      <th></th>\n",
       "      <th>Date</th>\n",
       "      <th>AveragePrice</th>\n",
       "      <th>Total Volume</th>\n",
       "      <th>4046</th>\n",
       "      <th>4225</th>\n",
       "      <th>4770</th>\n",
       "      <th>Total Bags</th>\n",
       "      <th>Small Bags</th>\n",
       "      <th>Large Bags</th>\n",
       "      <th>XLarge Bags</th>\n",
       "      <th>type</th>\n",
       "      <th>year</th>\n",
       "      <th>region</th>\n",
       "    </tr>\n",
       "  </thead>\n",
       "  <tbody>\n",
       "    <tr>\n",
       "      <th>0</th>\n",
       "      <td>2015-12-27</td>\n",
       "      <td>1.33</td>\n",
       "      <td>64236.62</td>\n",
       "      <td>1036.74</td>\n",
       "      <td>54454.85</td>\n",
       "      <td>48.16</td>\n",
       "      <td>8696.87</td>\n",
       "      <td>8603.62</td>\n",
       "      <td>93.25</td>\n",
       "      <td>0.0</td>\n",
       "      <td>conventional</td>\n",
       "      <td>2015</td>\n",
       "      <td>Albany</td>\n",
       "    </tr>\n",
       "    <tr>\n",
       "      <th>1</th>\n",
       "      <td>2015-12-20</td>\n",
       "      <td>1.35</td>\n",
       "      <td>54876.98</td>\n",
       "      <td>674.28</td>\n",
       "      <td>44638.81</td>\n",
       "      <td>58.33</td>\n",
       "      <td>9505.56</td>\n",
       "      <td>9408.07</td>\n",
       "      <td>97.49</td>\n",
       "      <td>0.0</td>\n",
       "      <td>conventional</td>\n",
       "      <td>2015</td>\n",
       "      <td>Albany</td>\n",
       "    </tr>\n",
       "    <tr>\n",
       "      <th>2</th>\n",
       "      <td>2015-12-13</td>\n",
       "      <td>0.93</td>\n",
       "      <td>118220.22</td>\n",
       "      <td>794.70</td>\n",
       "      <td>109149.67</td>\n",
       "      <td>130.50</td>\n",
       "      <td>8145.35</td>\n",
       "      <td>8042.21</td>\n",
       "      <td>103.14</td>\n",
       "      <td>0.0</td>\n",
       "      <td>conventional</td>\n",
       "      <td>2015</td>\n",
       "      <td>Albany</td>\n",
       "    </tr>\n",
       "    <tr>\n",
       "      <th>3</th>\n",
       "      <td>2015-12-06</td>\n",
       "      <td>1.08</td>\n",
       "      <td>78992.15</td>\n",
       "      <td>1132.00</td>\n",
       "      <td>71976.41</td>\n",
       "      <td>72.58</td>\n",
       "      <td>5811.16</td>\n",
       "      <td>5677.40</td>\n",
       "      <td>133.76</td>\n",
       "      <td>0.0</td>\n",
       "      <td>conventional</td>\n",
       "      <td>2015</td>\n",
       "      <td>Albany</td>\n",
       "    </tr>\n",
       "    <tr>\n",
       "      <th>4</th>\n",
       "      <td>2015-11-29</td>\n",
       "      <td>1.28</td>\n",
       "      <td>51039.60</td>\n",
       "      <td>941.48</td>\n",
       "      <td>43838.39</td>\n",
       "      <td>75.78</td>\n",
       "      <td>6183.95</td>\n",
       "      <td>5986.26</td>\n",
       "      <td>197.69</td>\n",
       "      <td>0.0</td>\n",
       "      <td>conventional</td>\n",
       "      <td>2015</td>\n",
       "      <td>Albany</td>\n",
       "    </tr>\n",
       "  </tbody>\n",
       "</table>\n",
       "</div>"
      ],
      "text/plain": [
       "         Date  AveragePrice  Total Volume     4046       4225    4770  \\\n",
       "0  2015-12-27          1.33      64236.62  1036.74   54454.85   48.16   \n",
       "1  2015-12-20          1.35      54876.98   674.28   44638.81   58.33   \n",
       "2  2015-12-13          0.93     118220.22   794.70  109149.67  130.50   \n",
       "3  2015-12-06          1.08      78992.15  1132.00   71976.41   72.58   \n",
       "4  2015-11-29          1.28      51039.60   941.48   43838.39   75.78   \n",
       "\n",
       "   Total Bags  Small Bags  Large Bags  XLarge Bags          type  year  region  \n",
       "0     8696.87     8603.62       93.25          0.0  conventional  2015  Albany  \n",
       "1     9505.56     9408.07       97.49          0.0  conventional  2015  Albany  \n",
       "2     8145.35     8042.21      103.14          0.0  conventional  2015  Albany  \n",
       "3     5811.16     5677.40      133.76          0.0  conventional  2015  Albany  \n",
       "4     6183.95     5986.26      197.69          0.0  conventional  2015  Albany  "
      ]
     },
     "execution_count": 82,
     "metadata": {},
     "output_type": "execute_result"
    }
   ],
   "source": [
    "df.head()"
   ]
  },
  {
   "cell_type": "markdown",
   "id": "96b83432",
   "metadata": {},
   "source": [
    "---\n",
    "**Q3** - Que remarquez vous ?"
   ]
  },
  {
   "cell_type": "code",
   "execution_count": 83,
   "id": "094c8015",
   "metadata": {},
   "outputs": [
    {
     "data": {
      "text/plain": [
       "Date        AveragePrice  Total Volume  4046       4225        4770      Total Bags  Small Bags  Large Bags  XLarge Bags  type          year  region             \n",
       "2015-01-04  0.65          1048062.16    770635.37  178418.32   6509.41   92499.06    92499.06    0.00        0.00         conventional  2015  PhoenixTucson          1\n",
       "2017-02-26  1.29          260743.16     52855.29   139066.59   100.84    68720.44    66310.52    2332.14     77.78        conventional  2017  HarrisburgScranton     1\n",
       "            1.41          3584.79       844.97     9.94        0.00      2729.88     2247.72     482.16      0.00         organic       2017  Pittsburgh             1\n",
       "            1.40          88371.09      3190.28    73959.76    71.20     11149.85    10910.40    239.45      0.00         conventional  2017  Albany                 1\n",
       "            1.39          76034.02      6058.09    24558.45    1293.32   44124.16    20679.02    23445.14    0.00         organic       2017  Plains                 1\n",
       "                                                                                                                                                                    ..\n",
       "2016-01-31  1.05          1851372.18    870097.66  571495.47   18332.66  391446.39   340740.98   49335.69    1369.72      conventional  2016  Plains                 1\n",
       "            1.06          4650798.49    102906.84  3443651.01  59279.93  1044960.71  981185.60   63773.37    1.74         conventional  2016  Northeast              1\n",
       "            1.07          240911.84     30150.26   141567.72   148.18    69045.68    67727.22    1318.46     0.00         conventional  2016  HarrisburgScranton     1\n",
       "                          419786.19     3328.89    292519.75   18558.03  105379.52   104227.82   1151.70     0.00         conventional  2016  NorthernNewEngland     1\n",
       "2018-03-25  2.09          20242.65      144.40     10949.63    0.00      9148.62     9137.73     10.89       0.00         organic       2018  HartfordSpringfield    1\n",
       "Name: count, Length: 18249, dtype: int64"
      ]
     },
     "execution_count": 83,
     "metadata": {},
     "output_type": "execute_result"
    }
   ],
   "source": [
    "df.value_counts()"
   ]
  },
  {
   "cell_type": "markdown",
   "id": "676f2972",
   "metadata": {},
   "source": [
    "---\n",
    "**Q4** - Supprimez la colonne <code>Unnamed</code> :"
   ]
  },
  {
   "cell_type": "code",
   "execution_count": null,
   "id": "524afefe",
   "metadata": {},
   "outputs": [],
   "source": [
    "# done"
   ]
  },
  {
   "cell_type": "markdown",
   "id": "f864aed2",
   "metadata": {},
   "source": [
    "---\n",
    "**Q5** - Affichez les dimensions du DataFrame :"
   ]
  },
  {
   "cell_type": "code",
   "execution_count": 84,
   "id": "749a553d",
   "metadata": {},
   "outputs": [
    {
     "data": {
      "text/plain": [
       "2"
      ]
     },
     "execution_count": 84,
     "metadata": {},
     "output_type": "execute_result"
    }
   ],
   "source": [
    "df.ndim"
   ]
  },
  {
   "cell_type": "markdown",
   "id": "a34e8e55",
   "metadata": {},
   "source": [
    "---\n",
    "**Q4** - Affichez le nom des colonnes :"
   ]
  },
  {
   "cell_type": "code",
   "execution_count": 85,
   "id": "52b19f22",
   "metadata": {},
   "outputs": [
    {
     "data": {
      "text/plain": [
       "Index(['Date', 'AveragePrice', 'Total Volume', '4046', '4225', '4770',\n",
       "       'Total Bags', 'Small Bags', 'Large Bags', 'XLarge Bags', 'type', 'year',\n",
       "       'region'],\n",
       "      dtype='object')"
      ]
     },
     "execution_count": 85,
     "metadata": {},
     "output_type": "execute_result"
    }
   ],
   "source": [
    "df.columns"
   ]
  },
  {
   "cell_type": "markdown",
   "id": "86ef4999",
   "metadata": {},
   "source": [
    "---\n",
    "**Q5** - Affichez le type des trois premières colonnes :"
   ]
  },
  {
   "cell_type": "code",
   "execution_count": 127,
   "id": "fd8d4d10",
   "metadata": {},
   "outputs": [
    {
     "data": {
      "text/plain": [
       "Date            datetime64[ns]\n",
       "AveragePrice           float64\n",
       "Total Volume           float64\n",
       "dtype: object"
      ]
     },
     "execution_count": 127,
     "metadata": {},
     "output_type": "execute_result"
    }
   ],
   "source": [
    "df.iloc[:, [0, 1, 2]].dtypes"
   ]
  },
  {
   "cell_type": "markdown",
   "id": "f159993a",
   "metadata": {},
   "source": [
    "---\n",
    "**Q6** - Regardez le type de la colonne <code>Date</code>, que remarquez vous ? A l'aide de la fonction <code>pd.to_datetime</code> convertissez cette colone en <code>datetime</code> :"
   ]
  },
  {
   "cell_type": "code",
   "execution_count": 91,
   "id": "78bc7e69",
   "metadata": {},
   "outputs": [],
   "source": [
    "df[\"Date\"] = pd.to_datetime(df[\"Date\"], format=\"%Y-%m-%d\")"
   ]
  },
  {
   "cell_type": "code",
   "execution_count": 92,
   "id": "3ed7e7b4",
   "metadata": {},
   "outputs": [
    {
     "data": {
      "text/plain": [
       "0    2015-12-27\n",
       "1    2015-12-20\n",
       "2    2015-12-13\n",
       "3    2015-12-06\n",
       "4    2015-11-29\n",
       "        ...    \n",
       "7    2018-02-04\n",
       "8    2018-01-28\n",
       "9    2018-01-21\n",
       "10   2018-01-14\n",
       "11   2018-01-07\n",
       "Name: Date, Length: 18249, dtype: datetime64[ns]"
      ]
     },
     "execution_count": 92,
     "metadata": {},
     "output_type": "execute_result"
    }
   ],
   "source": [
    "df[\"Date\"]"
   ]
  },
  {
   "cell_type": "markdown",
   "id": "67fccd26",
   "metadata": {},
   "source": [
    "---\n",
    "\n",
    "**Q7** - Pourquoi avoir procédé à cette opération ?\n"
   ]
  },
  {
   "cell_type": "code",
   "execution_count": null,
   "id": "03779b94",
   "metadata": {},
   "outputs": [],
   "source": [
    "# pour faire des opérations sur les dates, et prendre moins de mémoire."
   ]
  },
  {
   "cell_type": "markdown",
   "id": "721c38e1",
   "metadata": {},
   "source": [
    "---\n",
    "\n",
    "**Q8** - Nous allons répondre à notre première question de Data Scientist : Quelle quantité d'avocats est produite chaque année par chaque région du monde ?\n",
    "\n",
    "Pour répondre à cette question, nous devons agréger les lignes en fonction de l'année de la colonne <code>region</code> et de la colonne <code>Date</code>. Pour cela utilisez les fonctions <a href=\"https://pandas.pydata.org/docs/reference/api/pandas.DataFrame.groupby.html\"><code>DataFrame.groupby()</code></a> et <a href=\"https://pandas.pydata.org/docs/reference/api/pandas.DataFrame.sum.html\"><code>DataFrame.sum()</code></a>.\n"
   ]
  },
  {
   "cell_type": "code",
   "execution_count": 94,
   "id": "b429f3c9",
   "metadata": {},
   "outputs": [
    {
     "data": {
      "text/plain": [
       "year  region             \n",
       "2015  Albany                 4.029896e+06\n",
       "      Atlanta                2.323170e+07\n",
       "      BaltimoreWashington    4.064558e+07\n",
       "      Boise                  3.784357e+06\n",
       "      Boston                 2.745499e+07\n",
       "                                 ...     \n",
       "2018  Syracuse               1.046988e+06\n",
       "      Tampa                  6.642055e+06\n",
       "      TotalUS                5.236323e+08\n",
       "      West                   9.247709e+07\n",
       "      WestTexNewMexico       1.180082e+07\n",
       "Name: Total Volume, Length: 216, dtype: float64"
      ]
     },
     "execution_count": 94,
     "metadata": {},
     "output_type": "execute_result"
    }
   ],
   "source": [
    "df.groupby([\"year\", \"region\"])[\"Total Volume\"].sum()"
   ]
  },
  {
   "cell_type": "markdown",
   "id": "a679aefd",
   "metadata": {},
   "source": [
    "---\n",
    "\n",
    "**Q9** - Maintenant que nous avons ce DataFrame aggrégé, il est temps de représenter graphiquement (barplot) la production de l'Albany pour chaque année. Pour cela utilisez la fonction <a href=\"https://pandas.pydata.org/pandas-docs/stable/reference/api/pandas.DataFrame.plot.html\"><code>DataFrame.plot()</code></a> et la méthode <code>DataFrame.loc</code>."
   ]
  },
  {
   "cell_type": "code",
   "execution_count": 125,
   "id": "e7ee5cbc",
   "metadata": {},
   "outputs": [
    {
     "data": {
      "text/plain": [
       "<Axes: xlabel='year', ylabel='Total Volume'>"
      ]
     },
     "execution_count": 125,
     "metadata": {},
     "output_type": "execute_result"
    },
    {
     "data": {
      "image/png": "[encoded data removed]",
      "text/plain": [
       "<Figure size 640x480 with 1 Axes>"
      ]
     },
     "metadata": {},
     "output_type": "display_data"
    }
   ],
   "source": [
    "data_albany = df[df[\"region\"] == \"Albany\"].groupby(\"year\")[\"Total Volume\"].sum()\n",
    "# plt.bar(x=data_albany.index, height=data_albany, align=\"center\")\n",
    "sns.barplot(data=data_albany)"
   ]
  },
  {
   "cell_type": "markdown",
   "id": "ce52563e",
   "metadata": {},
   "source": [
    "---\n",
    "\n",
    "**Q10** - Considérons que l'année 2018 de production d'avocats de l'Albanie ne soit pas complète. Représentez une nouvelle fois cette production par année sans l'année 2018."
   ]
  },
  {
   "cell_type": "code",
   "execution_count": 126,
   "id": "cc7f3e9e",
   "metadata": {},
   "outputs": [
    {
     "data": {
      "text/plain": [
       "<Axes: xlabel='year', ylabel='Total Volume'>"
      ]
     },
     "execution_count": 126,
     "metadata": {},
     "output_type": "execute_result"
    },
    {
     "data": {
      "image/png": "[encoded data removed]",
      "text/plain": [
       "<Figure size 640x480 with 1 Axes>"
      ]
     },
     "metadata": {},
     "output_type": "display_data"
    }
   ],
   "source": [
    "data_albany_ex_2018 = data_albany.iloc[:-1]\n",
    "# plt.bar(x=data_albany_ex_2018.index, height=data_albany_ex_2018)\n",
    "sns.barplot(data_albany_ex_2018)"
   ]
  },
  {
   "cell_type": "markdown",
   "id": "d973ce87",
   "metadata": {},
   "source": [
    "---\n",
    "\n",
    "**Q11** - Interessons nous maintenant à l'évolution du prix moyen des avocats biologiques. Représentez grapghiquement le prix de ceux ci au cours du temps."
   ]
  },
  {
   "cell_type": "code",
   "execution_count": 129,
   "id": "889275f1",
   "metadata": {},
   "outputs": [
    {
     "data": {
      "text/plain": [
       "<Axes: xlabel='Date'>"
      ]
     },
     "execution_count": 129,
     "metadata": {},
     "output_type": "execute_result"
    },
    {
     "data": {
      "image/png": "[encoded data removed]",
      "text/plain": [
       "<Figure size 640x480 with 1 Axes>"
      ]
     },
     "metadata": {},
     "output_type": "display_data"
    }
   ],
   "source": [
    "organic = df[df[\"type\"] == \"organic\"].set_index(\"Date\").sort_index()\n",
    "organic[\"AveragePrice\"].rolling(30).mean().plot()"
   ]
  }
 ],
 "metadata": {
  "kernelspec": {
   "display_name": "Python 3 (ipykernel)",
   "language": "python",
   "name": "python3"
  },
  "language_info": {
   "codemirror_mode": {
    "name": "ipython",
    "version": 3
   },
   "file_extension": ".py",
   "mimetype": "text/x-python",
   "name": "python",
   "nbconvert_exporter": "python",
   "pygments_lexer": "ipython3",
   "version": "3.11.9"
  },
  "nbTranslate": {
   "displayLangs": [
    "*"
   ],
   "hotkey": "alt-t",
   "langInMainMenu": true,
   "sourceLang": "en",
   "targetLang": "fr",
   "useGoogleTranslate": true
  },
  "toc": {
   "base_numbering": 1,
   "nav_menu": {},
   "number_sections": false,
   "sideBar": true,
   "skip_h1_title": false,
   "title_cell": "Table of Contents",
   "title_sidebar": "Contents",
   "toc_cell": false,
   "toc_position": {},
   "toc_section_display": true,
   "toc_window_display": true
  }
 },
 "nbformat": 4,
 "nbformat_minor": 5
}
