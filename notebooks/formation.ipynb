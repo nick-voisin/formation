{
 "cells": [
  {
   "cell_type": "code",
   "execution_count": 3,
   "id": "e9100818-6cbb-4124-a819-3b0289d200e5",
   "metadata": {},
   "outputs": [],
   "source": [
    "import sys"
   ]
  },
  {
   "cell_type": "code",
   "execution_count": 4,
   "id": "f62fab47-3da3-492b-a9d6-ceb314034a7e",
   "metadata": {},
   "outputs": [
    {
     "data": {
      "text/plain": [
       "['c:\\\\Dev\\\\Python\\\\formation\\\\notebooks',\n",
       " 'c:\\\\Users\\\\voisi\\\\miniconda3\\\\envs\\\\formation\\\\python311.zip',\n",
       " 'c:\\\\Users\\\\voisi\\\\miniconda3\\\\envs\\\\formation\\\\DLLs',\n",
       " 'c:\\\\Users\\\\voisi\\\\miniconda3\\\\envs\\\\formation\\\\Lib',\n",
       " 'c:\\\\Users\\\\voisi\\\\miniconda3\\\\envs\\\\formation',\n",
       " '',\n",
       " 'c:\\\\Users\\\\voisi\\\\miniconda3\\\\envs\\\\formation\\\\Lib\\\\site-packages',\n",
       " 'c:\\\\Users\\\\voisi\\\\miniconda3\\\\envs\\\\formation\\\\Lib\\\\site-packages\\\\win32',\n",
       " 'c:\\\\Users\\\\voisi\\\\miniconda3\\\\envs\\\\formation\\\\Lib\\\\site-packages\\\\win32\\\\lib',\n",
       " 'c:\\\\Users\\\\voisi\\\\miniconda3\\\\envs\\\\formation\\\\Lib\\\\site-packages\\\\Pythonwin']"
      ]
     },
     "execution_count": 4,
     "metadata": {},
     "output_type": "execute_result"
    }
   ],
   "source": [
    "sys.path"
   ]
  },
  {
   "cell_type": "code",
   "execution_count": null,
   "id": "32164b44-4e80-4231-a14f-f64c9809de71",
   "metadata": {},
   "outputs": [],
   "source": []
  }
 ],
 "metadata": {
  "kernelspec": {
   "display_name": "Python 3 (ipykernel)",
   "language": "python",
   "name": "python3"
  },
  "language_info": {
   "codemirror_mode": {
    "name": "ipython",
    "version": 3
   },
   "file_extension": ".py",
   "mimetype": "text/x-python",
   "name": "python",
   "nbconvert_exporter": "python",
   "pygments_lexer": "ipython3",
   "version": "3.11.9"
  }
 },
 "nbformat": 4,
 "nbformat_minor": 5
}
