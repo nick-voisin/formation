{
 "cells": [
  {
   "cell_type": "markdown",
   "id": "ff631c27",
   "metadata": {},
   "source": [
    "# Votre première ACP"
   ]
  },
  {
   "cell_type": "markdown",
   "id": "572cea8f",
   "metadata": {},
   "source": [
    "L'objectif de cette exercice est d'améliorer les performances du modèle de clustering que vous avez appliqué sur les données `wine`.\n",
    "\n",
    "Pour cela nous allons tout d'abord appliquer une ACP sur les données en question, puis discuter des résultats pour ensuite appliquer un K-means sur les composantes principales de l'ACP obtenue."
   ]
  },
  {
   "cell_type": "code",
   "execution_count": 2,
   "id": "ec5d56bb",
   "metadata": {},
   "outputs": [],
   "source": [
    "# Chargez ici les librairies et modules nécessaires"
   ]
  },
  {
   "cell_type": "markdown",
   "id": "fee10693",
   "metadata": {},
   "source": [
    "# 1. Chargement et scaling"
   ]
  },
  {
   "cell_type": "markdown",
   "id": "ec4ee85b",
   "metadata": {},
   "source": [
    "---\n",
    "**Q1** Chargez le jeu de données `wine`."
   ]
  },
  {
   "cell_type": "code",
   "execution_count": 1,
   "id": "a717a5ff",
   "metadata": {},
   "outputs": [],
   "source": [
    "from sklearn.datasets import load_wine \n",
    "wine = load_wine(as_frame=True)\n",
    "X = wine.data\n",
    "y = wine.target\n",
    "wine_features = X.columns # Nom des colonnes nécessaire ensuite"
   ]
  },
  {
   "cell_type": "markdown",
   "id": "fe3e7b90",
   "metadata": {},
   "source": [
    "---\n",
    "**Q2** Avant une ACP vos données doivent être centrée autour de le moyenne. Pour cela utilisez un `StandardScaler`. Pensez à remettre vos données en `DataFrame`en utilisant comme nom de colonnes `wine_features`."
   ]
  },
  {
   "cell_type": "code",
   "execution_count": null,
   "id": "0f4afda3",
   "metadata": {},
   "outputs": [],
   "source": [
    "from sklearn.preprocessing import StandardScaler\n",
    "scaler = \n",
    "...\n",
    "X = "
   ]
  },
  {
   "cell_type": "markdown",
   "id": "21fa0b7f",
   "metadata": {},
   "source": [
    "# 2. ACP"
   ]
  },
  {
   "cell_type": "markdown",
   "id": "4791ab3c",
   "metadata": {},
   "source": [
    "---\n",
    "**Q1** Mettez en place votre ACP sur le jeu de données."
   ]
  },
  {
   "cell_type": "code",
   "execution_count": null,
   "id": "509ed731",
   "metadata": {},
   "outputs": [],
   "source": []
  },
  {
   "cell_type": "markdown",
   "id": "ba932571",
   "metadata": {},
   "source": [
    "---\n",
    "**Q2** Définissez `X_proj` correspondant à votre jeu de données projeté dans l'espace des composantes principales."
   ]
  },
  {
   "cell_type": "code",
   "execution_count": null,
   "id": "dd6fa39b",
   "metadata": {},
   "outputs": [],
   "source": [
    "X_proj="
   ]
  },
  {
   "cell_type": "markdown",
   "id": "bedc2358",
   "metadata": {},
   "source": [
    "---\n",
    "**Q3** Vérifiez l'orthogonalité des axes de votre ACP en représentant la heatmap de `X_proj`"
   ]
  },
  {
   "cell_type": "code",
   "execution_count": null,
   "id": "41d61d34",
   "metadata": {},
   "outputs": [],
   "source": []
  },
  {
   "cell_type": "markdown",
   "id": "31ceefdd",
   "metadata": {},
   "source": [
    "---\n",
    "**Q4** Représentez le pourcentage de variance expliqué par chaque axe. Discutez de ce résultat"
   ]
  },
  {
   "cell_type": "code",
   "execution_count": null,
   "id": "5acdaa76",
   "metadata": {},
   "outputs": [],
   "source": []
  },
  {
   "cell_type": "markdown",
   "id": "047e54d7",
   "metadata": {},
   "source": [
    "---\n",
    "**Q5** Représentez graphiquement vos observations (chaque bouteille de vin) dans l'espace des deux premières composantes principales."
   ]
  },
  {
   "cell_type": "code",
   "execution_count": null,
   "id": "ecf6173a",
   "metadata": {},
   "outputs": [],
   "source": []
  },
  {
   "cell_type": "markdown",
   "id": "71f69ce9",
   "metadata": {},
   "source": [
    "---\n",
    "**Q6** Représentez le cercle des variables dans l'espace des deux premières composantes. Interprétez les résultats."
   ]
  },
  {
   "cell_type": "code",
   "execution_count": null,
   "id": "6bf2c335",
   "metadata": {},
   "outputs": [],
   "source": []
  },
  {
   "cell_type": "markdown",
   "id": "21cdcee2",
   "metadata": {},
   "source": [
    "# 3. Clustering sur composantes principales"
   ]
  },
  {
   "cell_type": "markdown",
   "id": "3f5f839f",
   "metadata": {},
   "source": [
    "---\n",
    "**Q1** Représentez graphiquement vos observations (chaque bouteille de vin) dans l'espace des deux premières composantes principales et colorez chaque points selon le producteur correspondant (target)."
   ]
  },
  {
   "cell_type": "code",
   "execution_count": null,
   "id": "83841564",
   "metadata": {},
   "outputs": [],
   "source": []
  },
  {
   "cell_type": "markdown",
   "id": "4c023b29",
   "metadata": {},
   "source": [
    "---\n",
    "**Q2** Effectuez un K-means sur les composantes principales de l'ACP précédemment effectuée."
   ]
  },
  {
   "cell_type": "code",
   "execution_count": null,
   "id": "ab5036e9",
   "metadata": {},
   "outputs": [],
   "source": []
  },
  {
   "cell_type": "markdown",
   "id": "4f061b56",
   "metadata": {},
   "source": [
    "---\n",
    "**Q3** Représentez graphiquement les clusters obtenus. Discutez des résultats."
   ]
  },
  {
   "cell_type": "code",
   "execution_count": null,
   "id": "216e1195",
   "metadata": {},
   "outputs": [],
   "source": []
  },
  {
   "cell_type": "markdown",
   "id": "724b262e",
   "metadata": {},
   "source": [
    "# 4. Pour aller plus loin"
   ]
  },
  {
   "cell_type": "markdown",
   "id": "a50edd84",
   "metadata": {},
   "source": [
    "---\n",
    "**Q1** Utilisez différentes métriques pour valider votre clustering. Discutez des résultats obtenus par rapport à ceux de l'exercice \"4_Algorithmes_non_supervises/2_Kmeans\"."
   ]
  },
  {
   "cell_type": "code",
   "execution_count": null,
   "id": "b377a97c",
   "metadata": {},
   "outputs": [],
   "source": []
  }
 ],
 "metadata": {
  "kernelspec": {
   "display_name": "Python 3 (ipykernel)",
   "language": "python",
   "name": "python3"
  },
  "language_info": {
   "codemirror_mode": {
    "name": "ipython",
    "version": 3
   },
   "file_extension": ".py",
   "mimetype": "text/x-python",
   "name": "python",
   "nbconvert_exporter": "python",
   "pygments_lexer": "ipython3",
   "version": "3.8.12"
  },
  "nbTranslate": {
   "displayLangs": [
    "*"
   ],
   "hotkey": "alt-t",
   "langInMainMenu": true,
   "sourceLang": "en",
   "targetLang": "fr",
   "useGoogleTranslate": true
  },
  "toc": {
   "base_numbering": 1,
   "nav_menu": {},
   "number_sections": false,
   "sideBar": true,
   "skip_h1_title": false,
   "title_cell": "Table of Contents",
   "title_sidebar": "Contents",
   "toc_cell": false,
   "toc_position": {},
   "toc_section_display": true,
   "toc_window_display": true
  }
 },
 "nbformat": 4,
 "nbformat_minor": 5
}
