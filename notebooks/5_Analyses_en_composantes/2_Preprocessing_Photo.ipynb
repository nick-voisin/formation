{
 "cells": [
  {
   "cell_type": "markdown",
   "id": "6b742294",
   "metadata": {},
   "source": [
    "# ACP et reconnaissance d'images"
   ]
  },
  {
   "cell_type": "markdown",
   "id": "621373a9",
   "metadata": {},
   "source": [
    "Dans cet exercice, nous utiliserons l'ACP sur un ensemble de données de plusieurs images en noir et blanc.\n",
    "\n",
    "Ici :\n",
    "- chaque image est une observation (échantillon)\n",
    "- le niveau de luminosité de chaque pixel est une caractéristique (beaucoup de caractéristiques !!)\n",
    "\n",
    "Nous allons utiliser l'ACP pour compresser l'image en réduisant le nombre de caractéristiques utilisées pour la décrire."
   ]
  },
  {
   "cell_type": "markdown",
   "id": "f801ff85",
   "metadata": {},
   "source": [
    "# 1. Chargement du jeu de données\n",
    "\n",
    "L'utilisation de l'ACP pour la réduction de la dimensionnalité implique la mise à zéro d'une ou plusieurs des plus petites composantes principales, ce qui donne lieu à une **projection en plus petite dimension** des données qui préserve la variance maximale des données.\n",
    "\n",
    "Nous pouvons ensuite utiliser ces nouvelles représentations comme caractéristiques pour alimenter n'importe quel modèle. Cela peut être très utile car vous avez souvent beaucoup de caractéristiques, et vous voulez transformer et conserver un nombre restreint de caractéristiques qui sont les plus représentatives de ce que vous voulez modéliser.\n",
    "\n",
    "__Chargeons un ensemble de données d'images de visages et appliquons l'ACP.__"
   ]
  },
  {
   "cell_type": "code",
   "execution_count": null,
   "id": "21a8e444",
   "metadata": {},
   "outputs": [],
   "source": [
    "# Load data\n",
    "from sklearn.datasets import fetch_lfw_people\n",
    "faces = fetch_lfw_people(min_faces_per_person=70, resize=0.4)"
   ]
  },
  {
   "cell_type": "markdown",
   "id": "f0d06b40",
   "metadata": {},
   "source": [
    "Vous avez accès à\n",
    "- `faces.images` qui sont des matrices de __50 x 37 pixels__ que vous pouvez représenter\n",
    "- `faces.data` pour la version aplatie de taille __1850 x 1__ (parce que 50 x 37 = 1850). \n",
    "- `faces.target` l'indice de la personne à laquelle l'image correspond"
   ]
  },
  {
   "cell_type": "code",
   "execution_count": null,
   "id": "c2c9f639",
   "metadata": {},
   "outputs": [],
   "source": [
    "# 1288 images\n",
    "faces.images.shape"
   ]
  },
  {
   "cell_type": "markdown",
   "id": "2508c594",
   "metadata": {},
   "source": [
    "---\n",
    "**Q1** Représentez quelques photos."
   ]
  },
  {
   "cell_type": "code",
   "execution_count": null,
   "id": "79ee72a1",
   "metadata": {},
   "outputs": [],
   "source": []
  },
  {
   "cell_type": "markdown",
   "id": "64f4ec6d",
   "metadata": {},
   "source": [
    "# 2. ACP"
   ]
  },
  {
   "cell_type": "markdown",
   "id": "9d50dfcd",
   "metadata": {},
   "source": [
    "Dans ce jeu de données, nous avons des images de 50 × 37 pixels (1850 dimensions !). Comme nous l'avons déjà souligné, trop de dimensions dans un système est plus souvent un défaut qu'une qualité. \n",
    "\n",
    "C'est pourquoi nous utilisons l'ACP pour réduire ces dimensions à une taille plus exploitable, tout en conservant la plupart des informations du jeu de données.\n",
    "\n",
    "---\n",
    "**Q1** Appliquez l'ACP au jeu de données aplati `faces.data` (à la fois l'ajustement et la transformation), pour réduire les dimensions à 150, en mettant `n_components=150`. Enregistrez votre transformation dans une variable nommée `data_projected`."
   ]
  },
  {
   "cell_type": "code",
   "execution_count": null,
   "id": "b6d81d8f",
   "metadata": {},
   "outputs": [],
   "source": []
  },
  {
   "cell_type": "markdown",
   "id": "0f18ebe9",
   "metadata": {},
   "source": [
    "L'ensemble des données sur les visages n'a été projeté que sur les 150 premières composantes principales !\n",
    "\n",
    "Cela signifie que, maintenant, nous n'avons plus besoin de 1850 pixels pour décrire chaque image mais seulement de 150 valeurs. Un gain d'un facteur 12.\n",
    "\n",
    "Comment est-ce possible ?\n",
    "\n",
    "- Ce sont les composantes qui présentent le plus de variance. \n",
    "\n",
    "- Vous pouvez y accéder dans `pca.components_`.\n",
    "\n",
    "---\n",
    "**Q2** Regardez la première composante de ce tableau de composantes, et sa forme"
   ]
  },
  {
   "cell_type": "code",
   "execution_count": null,
   "id": "06e5f580",
   "metadata": {},
   "outputs": [],
   "source": []
  },
  {
   "cell_type": "markdown",
   "id": "22c222b5",
   "metadata": {},
   "source": [
    "Comme vous pouvez le voir, c'est un vecteur de 1850 valeurs. Nous avons maintenant 150 composantes de 1850 valeurs chacune.\n",
    "\n",
    "Un visage est maintenant décrit comme une combinaison (somme) de ces composantes.\n",
    "\n",
    "Reconstruisons une image à partir de sa représentation réduite pour voir comment cela fonctionne.\n",
    "\n",
    "---\n",
    "**Q3** Utilisez `inverse_transform` sur votre `data_projected` pour reconstruire un jeu de données `data_reconstructed`."
   ]
  },
  {
   "cell_type": "code",
   "execution_count": null,
   "id": "99fe84c5",
   "metadata": {},
   "outputs": [],
   "source": []
  },
  {
   "cell_type": "markdown",
   "id": "efea44c6",
   "metadata": {},
   "source": [
    "---\n",
    "**Q4** Représentez la 13ème image (Gearge W Bush) de l'ensemble de données reconstruit, et comparez-la à l'image originale. "
   ]
  },
  {
   "cell_type": "code",
   "execution_count": null,
   "id": "b2eabcdf",
   "metadata": {},
   "outputs": [],
   "source": []
  },
  {
   "cell_type": "markdown",
   "id": "48eab300",
   "metadata": {},
   "source": [
    "# 3. Etude des composantes"
   ]
  },
  {
   "cell_type": "markdown",
   "id": "c86f09e7",
   "metadata": {},
   "source": [
    "---\n",
    "**Q1** Représentez le visage \"moyen\""
   ]
  },
  {
   "cell_type": "code",
   "execution_count": null,
   "id": "25e04c45",
   "metadata": {},
   "outputs": [],
   "source": []
  },
  {
   "cell_type": "markdown",
   "id": "6afe106f",
   "metadata": {},
   "source": [
    "---\n",
    "**Q2** Représentez sous forme d'image les **5 premières** composantes principales en colorant via `cmap=plt.cm.coolwarm`. Commentez les résultats obtenus."
   ]
  },
  {
   "cell_type": "code",
   "execution_count": null,
   "id": "94a41d3f",
   "metadata": {},
   "outputs": [],
   "source": []
  },
  {
   "cell_type": "markdown",
   "id": "3927ac73",
   "metadata": {},
   "source": [
    "# 4. Pour aller plus loin"
   ]
  },
  {
   "cell_type": "markdown",
   "id": "0ce092d1",
   "metadata": {},
   "source": [
    "Pensez vous qu'il était nécessaire d'utiliser 150 composantes ? \n",
    "\n",
    "---\n",
    "**Q1** Justifiez via des graphiques votre hypothèse."
   ]
  },
  {
   "cell_type": "code",
   "execution_count": null,
   "id": "df783335",
   "metadata": {},
   "outputs": [],
   "source": []
  }
 ],
 "metadata": {
  "kernelspec": {
   "display_name": "Python 3 (ipykernel)",
   "language": "python",
   "name": "python3"
  },
  "language_info": {
   "codemirror_mode": {
    "name": "ipython",
    "version": 3
   },
   "file_extension": ".py",
   "mimetype": "text/x-python",
   "name": "python",
   "nbconvert_exporter": "python",
   "pygments_lexer": "ipython3",
   "version": "3.8.12"
  },
  "nbTranslate": {
   "displayLangs": [
    "*"
   ],
   "hotkey": "alt-t",
   "langInMainMenu": true,
   "sourceLang": "en",
   "targetLang": "fr",
   "useGoogleTranslate": true
  },
  "toc": {
   "base_numbering": 1,
   "nav_menu": {},
   "number_sections": false,
   "sideBar": true,
   "skip_h1_title": false,
   "title_cell": "Table of Contents",
   "title_sidebar": "Contents",
   "toc_cell": false,
   "toc_position": {},
   "toc_section_display": true,
   "toc_window_display": true
  }
 },
 "nbformat": 4,
 "nbformat_minor": 5
}
