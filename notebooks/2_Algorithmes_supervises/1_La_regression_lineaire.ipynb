{
 "cells": [
  {
   "cell_type": "markdown",
   "id": "e42efab5",
   "metadata": {},
   "source": [
    "# Données \"Houses\"\n",
    "\n",
    "Votre objectif est de prédire le prix d'une maison à partir de ses caractéristiques (surface, présence d'un garage, présence d'un jardin...)."
   ]
  },
  {
   "cell_type": "code",
   "execution_count": 1,
   "id": "69b5cf76",
   "metadata": {},
   "outputs": [],
   "source": []
  },
  {
   "cell_type": "markdown",
   "id": "06aa1cd7",
   "metadata": {},
   "source": [
    "---\n",
    "\n",
    "**Q1** Chargez `houses.csv` en tant que pandas dataframe. Affichez les 5 premières lignes."
   ]
  },
  {
   "cell_type": "code",
   "execution_count": null,
   "id": "b87f4788",
   "metadata": {},
   "outputs": [],
   "source": []
  },
  {
   "cell_type": "markdown",
   "id": "ed2291a8",
   "metadata": {},
   "source": [
    " ---\n",
    " \n",
    " **Q2** Faites une première analyse de votre jeu de données (shape, describe, dtypes...)"
   ]
  },
  {
   "cell_type": "code",
   "execution_count": null,
   "id": "0a79deea",
   "metadata": {},
   "outputs": [],
   "source": []
  },
  {
   "cell_type": "markdown",
   "id": "6ee4764c",
   "metadata": {},
   "source": [
    "# 1. Premier modèle linéaire univarié"
   ]
  },
  {
   "cell_type": "markdown",
   "id": "eca36bcf",
   "metadata": {},
   "source": [
    "## 1.1 Définition de la cible et de la feature"
   ]
  },
  {
   "cell_type": "markdown",
   "id": "0b6a9acb",
   "metadata": {},
   "source": [
    " L'objectif est de modéliser le prix de vente des maisons \\$ (`SalePrice`) à partir de la surface habitable de ces maisons en $ft^2$ (`GrLivArea`)."
   ]
  },
  {
   "cell_type": "markdown",
   "id": "30ec1d30",
   "metadata": {},
   "source": [
    "---\n",
    "\n",
    "**Q1** Assignez les deux variables X et y, tels que X soit la feature et y la cible."
   ]
  },
  {
   "cell_type": "code",
   "execution_count": null,
   "id": "3b993bc8",
   "metadata": {},
   "outputs": [],
   "source": []
  },
  {
   "cell_type": "markdown",
   "id": "3f56e6d5",
   "metadata": {},
   "source": [
    "---\n",
    "**Q2** Dans un scatter plot ([doc](https://matplotlib.org/3.3.3/api/_as_gen/matplotlib.pyplot.scatter.html)) , représentez la relation entre ce prix de vente et cette surface habitable."
   ]
  },
  {
   "cell_type": "code",
   "execution_count": null,
   "id": "a29a7aaa",
   "metadata": {},
   "outputs": [],
   "source": []
  },
  {
   "cell_type": "markdown",
   "id": "023a7a55",
   "metadata": {},
   "source": [
    "## 1.2 Entrainement du modèle"
   ]
  },
  {
   "cell_type": "markdown",
   "id": "828b70fc",
   "metadata": {},
   "source": [
    "---\n",
    "**Q3** Entrainez votre modèle. Enregistrez ce modèle entrainé dans une variable `model`."
   ]
  },
  {
   "cell_type": "code",
   "execution_count": null,
   "id": "6f967238",
   "metadata": {},
   "outputs": [],
   "source": []
  },
  {
   "cell_type": "markdown",
   "id": "d435bbcf",
   "metadata": {},
   "source": [
    "---\n",
    "**Q4** Votre modèle est-il performant ?"
   ]
  },
  {
   "cell_type": "code",
   "execution_count": null,
   "id": "1b709261",
   "metadata": {},
   "outputs": [],
   "source": []
  },
  {
   "cell_type": "markdown",
   "id": "445838ee",
   "metadata": {},
   "source": [
    "---\n",
    "**Q5** Quelle est la pente de votre modèle ? Enregistrez cette pente dans une variable `slope`."
   ]
  },
  {
   "cell_type": "code",
   "execution_count": null,
   "id": "e6af3e08",
   "metadata": {},
   "outputs": [],
   "source": []
  },
  {
   "cell_type": "markdown",
   "id": "b31fa3ff",
   "metadata": {},
   "source": [
    "---\n",
    "**Q6** Quelle est l'ordonnée à l'origine de votre modèle ? Enregistrez cette ordonnée dans une variable `intercept`. "
   ]
  },
  {
   "cell_type": "code",
   "execution_count": null,
   "id": "e7045ff8",
   "metadata": {},
   "outputs": [],
   "source": []
  },
  {
   "cell_type": "markdown",
   "id": "7597ee6c",
   "metadata": {},
   "source": [
    "## 1.3 Visualisation de notre premier modèle \n",
    "\n",
    "**Q7** Avec matplotlib, représentez vos données d'origine et la droite du modèle linéaire que vous avez mis en place "
   ]
  },
  {
   "cell_type": "code",
   "execution_count": null,
   "id": "63669282",
   "metadata": {},
   "outputs": [],
   "source": []
  },
  {
   "cell_type": "markdown",
   "id": "50dded65",
   "metadata": {},
   "source": [
    "## 1.4 Prédictions grâce à notre modèle\n",
    "\n",
    "**Q8** Utilisez votre modèle entrainé pour prédire le prix d'une maison dont la surface habitable est de 1200 $ft^2$."
   ]
  },
  {
   "cell_type": "code",
   "execution_count": null,
   "id": "8ea49915",
   "metadata": {},
   "outputs": [],
   "source": []
  },
  {
   "cell_type": "markdown",
   "id": "a37c1cf1",
   "metadata": {},
   "source": [
    "# 2. Deuxième modèle : ajout de features"
   ]
  },
  {
   "cell_type": "markdown",
   "id": "8e82f776",
   "metadata": {},
   "source": [
    "Nous disposons de nombreuses features, essayons d'en ajouter quelques unes à notre modèle afin d'améliorer ses performances.\n",
    "\n",
    "**Q1** Créez un modèle pour prédire le prix de vente d'une maison avec:\n",
    "\n",
    "- Surface habitable (`GrLivArea`)\n",
    "- Nombre de chambres (`BedroomAbvGr`)\n",
    "- La qualité globale (`OverallQual`)\n",
    "\n",
    "\n",
    "Dans un premier temps discutez des différents coefficients. Dans un second temps discutez du score obtenu par rapport au modèle précédent."
   ]
  },
  {
   "cell_type": "code",
   "execution_count": null,
   "id": "e2ad8f48",
   "metadata": {},
   "outputs": [],
   "source": []
  },
  {
   "cell_type": "markdown",
   "id": "8c73b39d",
   "metadata": {},
   "source": [
    "**Q2** Utilisez votre modèle entrainé pour prédire le prix d'une maison dont les caractéristiques sont les suivantes :\n",
    "\n",
    "- Surface habitable de 2000 $ft^2$ (`GrLivArea`)\n",
    "- 3 chambres (`BedroomAbvGr`)\n",
    "- Une qualité globale de 6 (`OverallQual`)"
   ]
  },
  {
   "cell_type": "code",
   "execution_count": null,
   "id": "3cf5cb3a",
   "metadata": {},
   "outputs": [],
   "source": []
  },
  {
   "cell_type": "markdown",
   "id": "b605d386",
   "metadata": {},
   "source": [
    "# 3. Et si on faisait un peu de preprocessing ? (Optionnel)"
   ]
  },
  {
   "cell_type": "markdown",
   "id": "bad2f1be",
   "metadata": {},
   "source": [
    "Le preprocessing rassemble toutes les modifications pouvant être apportées sur notre jeu de données initial avant toutes constructions de modèles."
   ]
  },
  {
   "cell_type": "code",
   "execution_count": 47,
   "id": "40f19631",
   "metadata": {},
   "outputs": [
    {
     "data": {
      "text/html": [
       "<div>\n",
       "<style scoped>\n",
       "    .dataframe tbody tr th:only-of-type {\n",
       "        vertical-align: middle;\n",
       "    }\n",
       "\n",
       "    .dataframe tbody tr th {\n",
       "        vertical-align: top;\n",
       "    }\n",
       "\n",
       "    .dataframe thead th {\n",
       "        text-align: right;\n",
       "    }\n",
       "</style>\n",
       "<table border=\"1\" class=\"dataframe\">\n",
       "  <thead>\n",
       "    <tr style=\"text-align: right;\">\n",
       "      <th></th>\n",
       "      <th>Id</th>\n",
       "      <th>MSSubClass</th>\n",
       "      <th>MSZoning</th>\n",
       "      <th>LotFrontage</th>\n",
       "      <th>LotArea</th>\n",
       "      <th>Street</th>\n",
       "      <th>Alley</th>\n",
       "      <th>LotShape</th>\n",
       "      <th>LandContour</th>\n",
       "      <th>Utilities</th>\n",
       "      <th>...</th>\n",
       "      <th>PoolArea</th>\n",
       "      <th>PoolQC</th>\n",
       "      <th>Fence</th>\n",
       "      <th>MiscFeature</th>\n",
       "      <th>MiscVal</th>\n",
       "      <th>MoSold</th>\n",
       "      <th>YrSold</th>\n",
       "      <th>SaleType</th>\n",
       "      <th>SaleCondition</th>\n",
       "      <th>SalePrice</th>\n",
       "    </tr>\n",
       "  </thead>\n",
       "  <tbody>\n",
       "    <tr>\n",
       "      <th>0</th>\n",
       "      <td>1</td>\n",
       "      <td>60</td>\n",
       "      <td>RL</td>\n",
       "      <td>65.0</td>\n",
       "      <td>8450</td>\n",
       "      <td>Pave</td>\n",
       "      <td>NaN</td>\n",
       "      <td>Reg</td>\n",
       "      <td>Lvl</td>\n",
       "      <td>AllPub</td>\n",
       "      <td>...</td>\n",
       "      <td>0</td>\n",
       "      <td>NaN</td>\n",
       "      <td>NaN</td>\n",
       "      <td>NaN</td>\n",
       "      <td>0</td>\n",
       "      <td>2</td>\n",
       "      <td>2008</td>\n",
       "      <td>WD</td>\n",
       "      <td>Normal</td>\n",
       "      <td>208500</td>\n",
       "    </tr>\n",
       "    <tr>\n",
       "      <th>1</th>\n",
       "      <td>2</td>\n",
       "      <td>20</td>\n",
       "      <td>RL</td>\n",
       "      <td>80.0</td>\n",
       "      <td>9600</td>\n",
       "      <td>Pave</td>\n",
       "      <td>NaN</td>\n",
       "      <td>Reg</td>\n",
       "      <td>Lvl</td>\n",
       "      <td>AllPub</td>\n",
       "      <td>...</td>\n",
       "      <td>0</td>\n",
       "      <td>NaN</td>\n",
       "      <td>NaN</td>\n",
       "      <td>NaN</td>\n",
       "      <td>0</td>\n",
       "      <td>5</td>\n",
       "      <td>2007</td>\n",
       "      <td>WD</td>\n",
       "      <td>Normal</td>\n",
       "      <td>181500</td>\n",
       "    </tr>\n",
       "    <tr>\n",
       "      <th>2</th>\n",
       "      <td>3</td>\n",
       "      <td>60</td>\n",
       "      <td>RL</td>\n",
       "      <td>68.0</td>\n",
       "      <td>11250</td>\n",
       "      <td>Pave</td>\n",
       "      <td>NaN</td>\n",
       "      <td>IR1</td>\n",
       "      <td>Lvl</td>\n",
       "      <td>AllPub</td>\n",
       "      <td>...</td>\n",
       "      <td>0</td>\n",
       "      <td>NaN</td>\n",
       "      <td>NaN</td>\n",
       "      <td>NaN</td>\n",
       "      <td>0</td>\n",
       "      <td>9</td>\n",
       "      <td>2008</td>\n",
       "      <td>WD</td>\n",
       "      <td>Normal</td>\n",
       "      <td>223500</td>\n",
       "    </tr>\n",
       "    <tr>\n",
       "      <th>3</th>\n",
       "      <td>4</td>\n",
       "      <td>70</td>\n",
       "      <td>RL</td>\n",
       "      <td>60.0</td>\n",
       "      <td>9550</td>\n",
       "      <td>Pave</td>\n",
       "      <td>NaN</td>\n",
       "      <td>IR1</td>\n",
       "      <td>Lvl</td>\n",
       "      <td>AllPub</td>\n",
       "      <td>...</td>\n",
       "      <td>0</td>\n",
       "      <td>NaN</td>\n",
       "      <td>NaN</td>\n",
       "      <td>NaN</td>\n",
       "      <td>0</td>\n",
       "      <td>2</td>\n",
       "      <td>2006</td>\n",
       "      <td>WD</td>\n",
       "      <td>Abnorml</td>\n",
       "      <td>140000</td>\n",
       "    </tr>\n",
       "    <tr>\n",
       "      <th>4</th>\n",
       "      <td>5</td>\n",
       "      <td>60</td>\n",
       "      <td>RL</td>\n",
       "      <td>84.0</td>\n",
       "      <td>14260</td>\n",
       "      <td>Pave</td>\n",
       "      <td>NaN</td>\n",
       "      <td>IR1</td>\n",
       "      <td>Lvl</td>\n",
       "      <td>AllPub</td>\n",
       "      <td>...</td>\n",
       "      <td>0</td>\n",
       "      <td>NaN</td>\n",
       "      <td>NaN</td>\n",
       "      <td>NaN</td>\n",
       "      <td>0</td>\n",
       "      <td>12</td>\n",
       "      <td>2008</td>\n",
       "      <td>WD</td>\n",
       "      <td>Normal</td>\n",
       "      <td>250000</td>\n",
       "    </tr>\n",
       "  </tbody>\n",
       "</table>\n",
       "<p>5 rows × 85 columns</p>\n",
       "</div>"
      ],
      "text/plain": [
       "   Id  MSSubClass MSZoning  LotFrontage  LotArea Street Alley LotShape  \\\n",
       "0   1          60       RL         65.0     8450   Pave   NaN      Reg   \n",
       "1   2          20       RL         80.0     9600   Pave   NaN      Reg   \n",
       "2   3          60       RL         68.0    11250   Pave   NaN      IR1   \n",
       "3   4          70       RL         60.0     9550   Pave   NaN      IR1   \n",
       "4   5          60       RL         84.0    14260   Pave   NaN      IR1   \n",
       "\n",
       "  LandContour Utilities  ... PoolArea PoolQC Fence MiscFeature MiscVal MoSold  \\\n",
       "0         Lvl    AllPub  ...        0    NaN   NaN         NaN       0      2   \n",
       "1         Lvl    AllPub  ...        0    NaN   NaN         NaN       0      5   \n",
       "2         Lvl    AllPub  ...        0    NaN   NaN         NaN       0      9   \n",
       "3         Lvl    AllPub  ...        0    NaN   NaN         NaN       0      2   \n",
       "4         Lvl    AllPub  ...        0    NaN   NaN         NaN       0     12   \n",
       "\n",
       "  YrSold  SaleType  SaleCondition  SalePrice  \n",
       "0   2008        WD         Normal     208500  \n",
       "1   2007        WD         Normal     181500  \n",
       "2   2008        WD         Normal     223500  \n",
       "3   2006        WD        Abnorml     140000  \n",
       "4   2008        WD         Normal     250000  \n",
       "\n",
       "[5 rows x 85 columns]"
      ]
     },
     "execution_count": 47,
     "metadata": {},
     "output_type": "execute_result"
    }
   ],
   "source": [
    "df = pd.read_csv(\"data/houses.csv\")\n",
    "\n",
    "df.head()"
   ]
  },
  {
   "cell_type": "markdown",
   "id": "bc9ae6a2",
   "metadata": {},
   "source": [
    "## 3.1 Les duplicats"
   ]
  },
  {
   "cell_type": "markdown",
   "id": "108e6f35",
   "metadata": {},
   "source": [
    "Les lignes dupliquées d'un dataset peuvent entrainer des erreurs (data leakage). Il est important de les repérer et de les supprimer."
   ]
  },
  {
   "cell_type": "markdown",
   "id": "2bdd3a03",
   "metadata": {},
   "source": [
    "---\n",
    "**Q1** En utilisant la fonction `drop_duplicates()`, identifiez le nombre de lignes dupliquées."
   ]
  },
  {
   "cell_type": "code",
   "execution_count": null,
   "id": "45700f6f",
   "metadata": {},
   "outputs": [],
   "source": []
  },
  {
   "cell_type": "markdown",
   "id": "e950fd88",
   "metadata": {},
   "source": [
    "---\n",
    "**Q2** Supprimez les duplicats du dataset."
   ]
  },
  {
   "cell_type": "code",
   "execution_count": null,
   "id": "06927ef6",
   "metadata": {},
   "outputs": [],
   "source": []
  },
  {
   "cell_type": "markdown",
   "id": "efd42075",
   "metadata": {},
   "source": [
    "## 3.2 Les données manquantes"
   ]
  },
  {
   "cell_type": "markdown",
   "id": "f57b25df",
   "metadata": {},
   "source": [
    "---\n",
    "**Q3** Faites afficher le pourcentage de valeurs manquantes pour chaque colonne du dataframe. Aidez vous de la fonction `DataFrame.isnull()` mais pas que!"
   ]
  },
  {
   "cell_type": "code",
   "execution_count": null,
   "id": "12a410da",
   "metadata": {},
   "outputs": [],
   "source": []
  },
  {
   "cell_type": "markdown",
   "id": "9bc7e247",
   "metadata": {},
   "source": [
    "---\n",
    "**Q4** Stocker le noms des colonnes qui ont plus de 50% de valeurs manquantes dans une variable `del_column`. Puis supprimez les colonnes associées.\n"
   ]
  },
  {
   "cell_type": "code",
   "execution_count": null,
   "id": "913c1462",
   "metadata": {},
   "outputs": [],
   "source": []
  },
  {
   "cell_type": "markdown",
   "id": "8dcb593c",
   "metadata": {},
   "source": [
    "### `RoofSurface`"
   ]
  },
  {
   "cell_type": "markdown",
   "id": "704fe863",
   "metadata": {},
   "source": [
    "---\n",
    "**Q5** Etudiez les valeurs manquantes dans `RoofSurface`. Ensuite, choisissez une des solutions suivantes : \n",
    "\n",
    "1. Supprimer la colonne entièrement\n",
    "2. Remplacer les valeurs manquantes par une valeur de votre choix.\n",
    "\n",
    "Appliquez les modifications choisies."
   ]
  },
  {
   "cell_type": "code",
   "execution_count": null,
   "id": "215b9dd7",
   "metadata": {},
   "outputs": [],
   "source": []
  },
  {
   "cell_type": "markdown",
   "id": "593211b9",
   "metadata": {},
   "source": [
    "⚠️ Attention : toutes les valeurs manquantes ne sont pas représentées par des `np.nans`, et `isnull()` ne détecte que les `np.nans` ⚠️"
   ]
  },
  {
   "cell_type": "code",
   "execution_count": null,
   "id": "f0c650a4",
   "metadata": {},
   "outputs": [],
   "source": []
  },
  {
   "cell_type": "markdown",
   "id": "bdbf1b38",
   "metadata": {},
   "source": [
    "### `ChimneyStyle`"
   ]
  },
  {
   "cell_type": "markdown",
   "id": "0f03e780",
   "metadata": {},
   "source": [
    "---\n",
    "**Q6** Etudiez les valeurs manquantes dans `ChimneyStyle`. Ensuite, choisissez une des solutions suivantes : \n",
    "\n",
    "1. Supprimer la colonne entièrement\n",
    "2. Remplacer les valeurs manquantes par une valeur de votre choix\n",
    "\n",
    "Appliquez les modifications choisies."
   ]
  },
  {
   "cell_type": "code",
   "execution_count": null,
   "id": "9e4b1f25",
   "metadata": {},
   "outputs": [],
   "source": []
  },
  {
   "cell_type": "markdown",
   "id": "7bd61361",
   "metadata": {},
   "source": [
    "## 3.3 Le scaling"
   ]
  },
  {
   "cell_type": "markdown",
   "id": "4498b1e5",
   "metadata": {},
   "source": [
    "##  Exemple : `RoofSurface` "
   ]
  },
  {
   "cell_type": "code",
   "execution_count": 57,
   "id": "4a86c5e8",
   "metadata": {
    "scrolled": false
   },
   "outputs": [
    {
     "data": {
      "text/plain": [
       "<AxesSubplot:xlabel='RoofSurface', ylabel='Count'>"
      ]
     },
     "execution_count": 57,
     "metadata": {},
     "output_type": "execute_result"
    },
    {
     "data": {
      "image/png": "[encoded data removed]",
      "text/plain": [
       "<Figure size 432x288 with 1 Axes>"
      ]
     },
     "metadata": {
      "needs_background": "light"
     },
     "output_type": "display_data"
    }
   ],
   "source": [
    "sns.histplot(df['RoofSurface'],kde=True)"
   ]
  },
  {
   "cell_type": "markdown",
   "id": "25676a6c",
   "metadata": {},
   "source": [
    "---\n",
    "**Q7** Commentez la distribution précédente. Entre les trois méthodes de scaling proposées, quelle semble être la plus adéquat dans cette situation ? Appliquez la.\n",
    "\n",
    "- [`MinMaxScaler`](https://scikit-learn.org/stable/modules/generated/sklearn.preprocessing.MinMaxScaler.html)\n",
    "- [`StandardScaler`](https://scikit-learn.org/stable/modules/generated/sklearn.preprocessing.StandardScaler.html)\n",
    "- [`RobustScaler`](https://scikit-learn.org/stable/modules/generated/sklearn.preprocessing.RobustScaler.html)"
   ]
  },
  {
   "cell_type": "code",
   "execution_count": null,
   "id": "1931ea94",
   "metadata": {},
   "outputs": [],
   "source": []
  },
  {
   "cell_type": "markdown",
   "id": "acccb2ec",
   "metadata": {},
   "source": [
    "## `GrLivArea`"
   ]
  },
  {
   "cell_type": "markdown",
   "id": "1ae18126",
   "metadata": {},
   "source": [
    "---\n",
    "**Q8** Comme précédemment, étudiez la distribution de `GrLivArea`. Ensuite, choisissez la méthode de scaling la plus adaptée.\n",
    "\n",
    "Remplacez la colonne d'origine par sa tranformation comme précédemment."
   ]
  },
  {
   "cell_type": "code",
   "execution_count": null,
   "id": "ad0170a8",
   "metadata": {},
   "outputs": [],
   "source": []
  },
  {
   "cell_type": "markdown",
   "id": "c54fd26e",
   "metadata": {},
   "source": [
    "## 3.4 Test d'un nouveau modèle"
   ]
  },
  {
   "cell_type": "markdown",
   "id": "18677bad",
   "metadata": {},
   "source": [
    "---\n",
    "**Q9** Construisez un nouveau modèle multivarié comme précédemment, en utilisant des features modifiées. Discutez des résultats obtenus."
   ]
  },
  {
   "cell_type": "code",
   "execution_count": null,
   "id": "3ce11fba",
   "metadata": {},
   "outputs": [],
   "source": []
  }
 ],
 "metadata": {
  "kernelspec": {
   "display_name": "Python 3 (ipykernel)",
   "language": "python",
   "name": "python3"
  },
  "language_info": {
   "codemirror_mode": {
    "name": "ipython",
    "version": 3
   },
   "file_extension": ".py",
   "mimetype": "text/x-python",
   "name": "python",
   "nbconvert_exporter": "python",
   "pygments_lexer": "ipython3",
   "version": "3.8.12"
  },
  "nbTranslate": {
   "displayLangs": [
    "*"
   ],
   "hotkey": "alt-t",
   "langInMainMenu": true,
   "sourceLang": "en",
   "targetLang": "fr",
   "useGoogleTranslate": true
  },
  "toc": {
   "base_numbering": 1,
   "nav_menu": {},
   "number_sections": false,
   "sideBar": true,
   "skip_h1_title": false,
   "title_cell": "Table of Contents",
   "title_sidebar": "Contents",
   "toc_cell": false,
   "toc_position": {},
   "toc_section_display": true,
   "toc_window_display": true
  },
  "varInspector": {
   "cols": {
    "lenName": 16,
    "lenType": 16,
    "lenVar": 40
   },
   "kernels_config": {
    "python": {
     "delete_cmd_postfix": "",
     "delete_cmd_prefix": "del ",
     "library": "var_list.py",
     "varRefreshCmd": "print(var_dic_list())"
    },
    "r": {
     "delete_cmd_postfix": ") ",
     "delete_cmd_prefix": "rm(",
     "library": "var_list.r",
     "varRefreshCmd": "cat(var_dic_list()) "
    }
   },
   "types_to_exclude": [
    "module",
    "function",
    "builtin_function_or_method",
    "instance",
    "_Feature"
   ],
   "window_display": false
  }
 },
 "nbformat": 4,
 "nbformat_minor": 5
}
