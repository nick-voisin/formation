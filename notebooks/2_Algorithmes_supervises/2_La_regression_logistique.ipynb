{
 "cells": [
  {
   "cell_type": "markdown",
   "id": "e42efab5",
   "metadata": {},
   "source": [
    "# \"Titanic disaster\"\n",
    "\n",
    "Votre objectif est de prédire la survie (ou non) d'une personne connaissant les caractéristiques de son voyage à bord du titanic."
   ]
  },
  {
   "cell_type": "code",
   "execution_count": 4,
   "id": "69b5cf76",
   "metadata": {},
   "outputs": [],
   "source": [
    "# Importer ici les modules qui vous seront utiles (pandas, numpy ...)"
   ]
  },
  {
   "cell_type": "markdown",
   "id": "ed2291a8",
   "metadata": {},
   "source": [
    "ℹ️ Avant de commencer quelques mots sur la régression logistique"
   ]
  },
  {
   "cell_type": "markdown",
   "id": "6ee4764c",
   "metadata": {},
   "source": [
    "# 1. La notion de probabilité et de côte (odds)"
   ]
  },
  {
   "cell_type": "markdown",
   "id": "f6dca54e",
   "metadata": {},
   "source": [
    "<img src=\"regression_logistique.png\" width=\"600\">"
   ]
  },
  {
   "cell_type": "markdown",
   "id": "d4e78fbe",
   "metadata": {},
   "source": [
    "Le $\\hat{y}$ prédit par une régression logistique est en réalité une probabilité. Cette probabilité, appelée $p$ est calculée suivant une courbe sigmoïde telle que :\n",
    "\n",
    "$\n",
    "p=sigmoid(X)=\\cfrac{1}{1+e^{-(\\beta_0+\\beta_1X_1+...+\\beta_NX_N)}}\n",
    "$\n",
    "\n",
    "Ainsi \n",
    "\n",
    "\n",
    "$\n",
    "log\\left(\\cfrac{p}{(1-p)}\\right)=\\beta_0+\\beta_1X_1+...+\\beta_NX_N\n",
    "$"
   ]
  },
  {
   "cell_type": "markdown",
   "id": "1831ecaf",
   "metadata": {},
   "source": [
    "De cette manière les coefficients s'interprètent en terme de probabilité et de côtes (odds) de succès :\n",
    "\n",
    "Probabilité --> Odds -> Log Odds (= LOGIT)\n",
    "\n",
    "Les chances (odds) d'un événement sont donc définies comme $\\cfrac{p}{(1-p)}$\n",
    " \n",
    "p = 0.8, odds = 0.8 / 0.2 = 4\n",
    "\n",
    "\n",
    "\"Les chances de succès sont de 4 contre 1\""
   ]
  },
  {
   "cell_type": "markdown",
   "id": "702b55cb",
   "metadata": {},
   "source": [
    "## Visualisation de la côte "
   ]
  },
  {
   "cell_type": "markdown",
   "id": "30ec1d30",
   "metadata": {},
   "source": [
    "---\n",
    "**Q1** Représentez simplement l'évolution des odds en fonction de la probabilité p."
   ]
  },
  {
   "cell_type": "code",
   "execution_count": null,
   "id": "8ca0650b",
   "metadata": {},
   "outputs": [],
   "source": []
  },
  {
   "cell_type": "markdown",
   "id": "3f56e6d5",
   "metadata": {},
   "source": [
    "---\n",
    "**Q2** Faites de même mais en prenant cette fois-ci le log des odds. Ajoutez un point correspondant à la probabilité 0.8."
   ]
  },
  {
   "cell_type": "code",
   "execution_count": null,
   "id": "111fcd62",
   "metadata": {},
   "outputs": [],
   "source": []
  },
  {
   "cell_type": "markdown",
   "id": "9f6d8229",
   "metadata": {},
   "source": [
    "---\n",
    "**Q3** Que remarquez vous ?"
   ]
  },
  {
   "cell_type": "code",
   "execution_count": null,
   "id": "3f636dcb",
   "metadata": {},
   "outputs": [],
   "source": []
  },
  {
   "cell_type": "markdown",
   "id": "023a7a55",
   "metadata": {},
   "source": [
    "# 2. Modèle de régression logistique et ordonnée à l'origine"
   ]
  },
  {
   "cell_type": "markdown",
   "id": "06aa1cd7",
   "metadata": {},
   "source": [
    "\n",
    "**Q1** Chargez la base de données **Titanic** (<code>titanic.csv</code>) et faites affichez les premières lignes."
   ]
  },
  {
   "cell_type": "code",
   "execution_count": null,
   "id": "d37e335b",
   "metadata": {},
   "outputs": [],
   "source": []
  },
  {
   "cell_type": "markdown",
   "id": "7ff41999",
   "metadata": {},
   "source": [
    "---\n",
    "**Q2** Faites une première analyse de votre jeu de données"
   ]
  },
  {
   "cell_type": "code",
   "execution_count": null,
   "id": "3f70c584",
   "metadata": {},
   "outputs": [],
   "source": []
  },
  {
   "cell_type": "markdown",
   "id": "5c086c85",
   "metadata": {},
   "source": [
    "Nous allons partir sur le modèle suivant :\n",
    "\n",
    "$ survie_i=\\beta_0$"
   ]
  },
  {
   "cell_type": "markdown",
   "id": "5f8c0a02",
   "metadata": {},
   "source": [
    "---\n",
    "**Q3** Définissez les variables X et y vérifiant cette hypothèse.\n",
    "\n",
    "<details>\n",
    "    <summary>💡 Hint</summary>\n",
    "ℹ️ Ici on cherche à n'obtenir que l'ordonnée à l'origine. X est donc défini comme un vecteur rempli de 0. Attention votre modèle n'accepte que des DataFrame.\n",
    "</details>"
   ]
  },
  {
   "cell_type": "code",
   "execution_count": null,
   "id": "6b2e6194",
   "metadata": {},
   "outputs": [],
   "source": []
  },
  {
   "cell_type": "markdown",
   "id": "0923949b",
   "metadata": {},
   "source": [
    "---\n",
    "**Q4** Instanciez votre modèle."
   ]
  },
  {
   "cell_type": "code",
   "execution_count": null,
   "id": "9c5a45b8",
   "metadata": {},
   "outputs": [],
   "source": []
  },
  {
   "cell_type": "markdown",
   "id": "9fef09cc",
   "metadata": {},
   "source": [
    "---\n",
    "**Q5** Quelle est la valeur de l'ordonnée à l'origine ? Discutez la et interprétez la."
   ]
  },
  {
   "cell_type": "code",
   "execution_count": null,
   "id": "7f4a2e03",
   "metadata": {},
   "outputs": [],
   "source": []
  },
  {
   "cell_type": "markdown",
   "id": "a37c1cf1",
   "metadata": {},
   "source": [
    "# 3. Modèle de régression logistique avec 1 feature quantitative"
   ]
  },
  {
   "cell_type": "markdown",
   "id": "70976f35",
   "metadata": {},
   "source": [
    "Ajoutons un paramètre à notre modèle, tel que :\n",
    "\n",
    "$ survie_i=\\beta_0+\\beta_1Age$\n",
    "\n",
    "avec $Fare$ correspondant au prix du billet payé par le passager."
   ]
  },
  {
   "cell_type": "markdown",
   "id": "066504a0",
   "metadata": {},
   "source": [
    "---\n",
    "**Q1** Définissez les variables X et y vérifiant cette hypothèse."
   ]
  },
  {
   "cell_type": "code",
   "execution_count": null,
   "id": "4a63221f",
   "metadata": {},
   "outputs": [],
   "source": []
  },
  {
   "cell_type": "markdown",
   "id": "e0826e8a",
   "metadata": {},
   "source": [
    "---\n",
    "**Q2** Instanciez votre modèle."
   ]
  },
  {
   "cell_type": "code",
   "execution_count": null,
   "id": "3ca3b4e7",
   "metadata": {},
   "outputs": [],
   "source": []
  },
  {
   "cell_type": "markdown",
   "id": "a4be90a7",
   "metadata": {},
   "source": [
    "---\n",
    "**Q3** Quelle est la valeur du coefficient $Age$ ? Discutez la et interprétez la."
   ]
  },
  {
   "cell_type": "code",
   "execution_count": null,
   "id": "67c90281",
   "metadata": {},
   "outputs": [],
   "source": []
  },
  {
   "cell_type": "markdown",
   "id": "e8635ab2",
   "metadata": {},
   "source": [
    "---\n",
    "**Q4** Ici, comment interpréter l'ordonnée à l'origine ?"
   ]
  },
  {
   "cell_type": "code",
   "execution_count": null,
   "id": "1d3aee17",
   "metadata": {},
   "outputs": [],
   "source": []
  },
  {
   "cell_type": "markdown",
   "id": "b605d386",
   "metadata": {},
   "source": [
    "# 4. Modèle de regression logistique avec 1 feature catégorielle"
   ]
  },
  {
   "cell_type": "markdown",
   "id": "bad2f1be",
   "metadata": {},
   "source": [
    "Redéfinissons un modèle tel que :\n",
    "\n",
    "$ survie_i=\\beta_0+\\beta_1Pclass$\n",
    "\n",
    "avec $pclass$ correspondant à la classe dont faisait partie le passager (1,2 ou 3).\n"
   ]
  },
  {
   "cell_type": "markdown",
   "id": "ba0c963f",
   "metadata": {},
   "source": [
    "---\n",
    "**Q1** Définissez les variables X et y vérifiant cette hypothèse."
   ]
  },
  {
   "cell_type": "code",
   "execution_count": null,
   "id": "ffe0445b",
   "metadata": {},
   "outputs": [],
   "source": []
  },
  {
   "cell_type": "markdown",
   "id": "0f96229d",
   "metadata": {},
   "source": [
    "---\n",
    "**Q2** Instanciez votre modèle."
   ]
  },
  {
   "cell_type": "code",
   "execution_count": null,
   "id": "d8b05499",
   "metadata": {},
   "outputs": [],
   "source": []
  },
  {
   "cell_type": "markdown",
   "id": "8b2d208a",
   "metadata": {},
   "source": [
    "---\n",
    "**Q3** Quelles sont les valeurs du coefficient `Pclass` et de l'ordonnée à l'origine ? Discutez les et interprétez les."
   ]
  },
  {
   "cell_type": "code",
   "execution_count": null,
   "id": "627499b2",
   "metadata": {},
   "outputs": [],
   "source": []
  },
  {
   "cell_type": "markdown",
   "id": "2eb84333",
   "metadata": {},
   "source": [
    "# 5. Modèle de régression logistique avec plusieurs features"
   ]
  },
  {
   "cell_type": "markdown",
   "id": "e63d3257",
   "metadata": {},
   "source": [
    "Intégrons maintenant dans un seul modèle les variables $Fare$, $pclass$ et $age$."
   ]
  },
  {
   "cell_type": "markdown",
   "id": "e7b90a1f",
   "metadata": {},
   "source": [
    "---\n",
    "**Q1** Définissez les variables X et y vérifiant cette hypothèse."
   ]
  },
  {
   "cell_type": "code",
   "execution_count": null,
   "id": "5641622b",
   "metadata": {},
   "outputs": [],
   "source": []
  },
  {
   "cell_type": "markdown",
   "id": "ea4743b6",
   "metadata": {},
   "source": [
    "---\n",
    "**Q2** Instanciez votre modèle."
   ]
  },
  {
   "cell_type": "code",
   "execution_count": null,
   "id": "3f748145",
   "metadata": {},
   "outputs": [],
   "source": []
  },
  {
   "cell_type": "markdown",
   "id": "615a329b",
   "metadata": {},
   "source": [
    "---\n",
    "**Q3** Quelles sont les valeurs des différents coefficients ? Discutez les et interprétez les."
   ]
  },
  {
   "cell_type": "code",
   "execution_count": null,
   "id": "bd151859",
   "metadata": {},
   "outputs": [],
   "source": []
  },
  {
   "cell_type": "markdown",
   "id": "2fdd0d5d",
   "metadata": {},
   "source": [
    "# 6. Première évaluation des performances (optionnel)"
   ]
  },
  {
   "cell_type": "code",
   "execution_count": null,
   "id": "f03f38ad",
   "metadata": {},
   "outputs": [],
   "source": []
  }
 ],
 "metadata": {
  "kernelspec": {
   "display_name": "Python 3 (ipykernel)",
   "language": "python",
   "name": "python3"
  },
  "language_info": {
   "codemirror_mode": {
    "name": "ipython",
    "version": 3
   },
   "file_extension": ".py",
   "mimetype": "text/x-python",
   "name": "python",
   "nbconvert_exporter": "python",
   "pygments_lexer": "ipython3",
   "version": "3.8.12"
  },
  "nbTranslate": {
   "displayLangs": [
    "*"
   ],
   "hotkey": "alt-t",
   "langInMainMenu": true,
   "sourceLang": "en",
   "targetLang": "fr",
   "useGoogleTranslate": true
  },
  "toc": {
   "base_numbering": 1,
   "nav_menu": {},
   "number_sections": false,
   "sideBar": true,
   "skip_h1_title": false,
   "title_cell": "Table of Contents",
   "title_sidebar": "Contents",
   "toc_cell": false,
   "toc_position": {},
   "toc_section_display": true,
   "toc_window_display": true
  }
 },
 "nbformat": 4,
 "nbformat_minor": 5
}
